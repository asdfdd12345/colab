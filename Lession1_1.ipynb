{
  "nbformat": 4,
  "nbformat_minor": 0,
  "metadata": {
    "colab": {
      "name": "Lession1-1.ipynb",
      "provenance": [],
      "authorship_tag": "ABX9TyPQiPOAxhxJQKnXLkzN6MY9",
      "include_colab_link": true
    },
    "kernelspec": {
      "name": "python3",
      "display_name": "Python 3"
    },
    "language_info": {
      "name": "python"
    }
  },
  "cells": [
    {
      "cell_type": "markdown",
      "metadata": {
        "id": "view-in-github",
        "colab_type": "text"
      },
      "source": [
        "<a href=\"https://colab.research.google.com/github/asdfdd12345/colab/blob/main/Lession1_1.ipynb\" target=\"_parent\"><img src=\"https://colab.research.google.com/assets/colab-badge.svg\" alt=\"Open In Colab\"/></a>"
      ]
    },
    {
      "cell_type": "markdown",
      "source": [
        "예제"
      ],
      "metadata": {
        "id": "Lr3F-q8FPORY"
      }
    },
    {
      "cell_type": "code",
      "execution_count": 2,
      "metadata": {
        "id": "paF61n_8Gaf5",
        "colab": {
          "base_uri": "https://localhost:8080/"
        },
        "outputId": "53ba0352-a0cd-4403-cfee-a861ee9d3fde"
      },
      "outputs": [
        {
          "output_type": "stream",
          "name": "stdout",
          "text": [
            "400\n"
          ]
        }
      ],
      "source": [
        "print(100+300)"
      ]
    },
    {
      "cell_type": "code",
      "source": [
        "print(200/3*4)"
      ],
      "metadata": {
        "colab": {
          "base_uri": "https://localhost:8080/"
        },
        "id": "3R0kb_hKPRm5",
        "outputId": "331823ba-d6f9-43cf-8b42-3f2a2040da28"
      },
      "execution_count": 3,
      "outputs": [
        {
          "output_type": "stream",
          "name": "stdout",
          "text": [
            "266.6666666666667\n"
          ]
        }
      ]
    },
    {
      "cell_type": "code",
      "source": [
        "print(\"난생처음 파이썬을\")\n",
        "print(\"열심히 공부 중입니다~\")\n",
        "print(\"이젠 저도 파이썬 프로그래머입니다.^^\")"
      ],
      "metadata": {
        "colab": {
          "base_uri": "https://localhost:8080/"
        },
        "id": "UZVctKbsPvkA",
        "outputId": "7d7a91be-c36f-43b4-dbf3-bef299a1ec11"
      },
      "execution_count": 4,
      "outputs": [
        {
          "output_type": "stream",
          "name": "stdout",
          "text": [
            "난생처음 파이썬을\n",
            "열심히 공부 중입니다~\n",
            "이젠 저도 파이썬 프로그래머입니다.^^\n"
          ]
        }
      ]
    },
    {
      "cell_type": "markdown",
      "source": [
        "# 파이썬 시작하기\n",
        "\n",
        "*   프로그래밍 언어?\n",
        "  * 컴퓨터와 스마트폰에 들어 있는 많은 소프트웨어\n",
        "  유튜브, 메시지, 전화, 카카오톡 등\n",
        " * 프로그램, 소프트웨어(software),애플리케이션(Appilcation),앱(App),응용 프로그램 모두 동일한 용어입니다.\n",
        "* 프로그래밍(Programming)\n",
        " * 프로그램을 만드는 작업\n",
        "* 프로그래밍 언어(Prigramming language)\n",
        " * 사람이 이해하는 말을 언어라고 부르는듯이 컴퓨터가 이해하는 언어를 의미\n",
        "* 프로그래머(Programmer)\n",
        " * 프로그래밍 언어를 사용하여 소프트웨어나 앱을 만드는 직업을 가진 사람을 의미\n",
        "* 프로그래밍 언어의 분류\n",
        " * 컴파일러(Compiler) 언어\n",
        "   * 컴파일(Compile) : 소스 코드를 기계어로 번역하는 과정\n",
        "   * 소스 코드를 실행 가능한 기계어로 일괄 번역한 후에, 번역이 완료된 파일 (*.exe)을 실행하는 언어를 의미함.\n",
        " * 스크립트(Script) 언어\n",
        "   * 소스코드 하...  \n",
        "  \n",
        "\n"
      ],
      "metadata": {
        "id": "DUvbr4daGd31"
      }
    }
  ]
}