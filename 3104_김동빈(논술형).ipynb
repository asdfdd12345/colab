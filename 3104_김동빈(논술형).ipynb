{
  "nbformat": 4,
  "nbformat_minor": 0,
  "metadata": {
    "colab": {
      "name": "3104-김동빈(논술형).ipynb",
      "provenance": [],
      "authorship_tag": "ABX9TyOlubWqHElY/vU0dLvih6o7",
      "include_colab_link": true
    },
    "kernelspec": {
      "name": "python3",
      "display_name": "Python 3"
    },
    "language_info": {
      "name": "python"
    }
  },
  "cells": [
    {
      "cell_type": "markdown",
      "metadata": {
        "id": "view-in-github",
        "colab_type": "text"
      },
      "source": [
        "<a href=\"https://colab.research.google.com/github/asdfdd12345/colab/blob/main/3104_%EA%B9%80%EB%8F%99%EB%B9%88(%EB%85%BC%EC%88%A0%ED%98%95).ipynb\" target=\"_parent\"><img src=\"https://colab.research.google.com/assets/colab-badge.svg\" alt=\"Open In Colab\"/></a>"
      ]
    },
    {
      "cell_type": "markdown",
      "source": [
        "2022학년도 응용프로그래밍 개발 - 논술형\n",
        "컴퓨터과 3학년 1반 4번 김동빈\n",
        "\n",
        "\n",
        "\n",
        "\n"
      ],
      "metadata": {
        "id": "KGLD38Hb6qj-"
      }
    },
    {
      "cell_type": "code",
      "execution_count": 30,
      "metadata": {
        "colab": {
          "base_uri": "https://localhost:8080/"
        },
        "id": "l5WdPSzl6fCA",
        "outputId": "fb4b6558-1764-4866-fcd4-b2e390fb3cd5"
      },
      "outputs": [
        {
          "output_type": "stream",
          "name": "stdout",
          "text": [
            "첫 번째 숫자 입력 ==>10\n",
            "두 번째 숫자 입력 ==>20\n",
            "10 + 20 = (10, 20)\n",
            "10 - 20 = (10, -20)\n",
            "10 * 20 = 200\n",
            "10 / 20 = 0.5\n"
          ]
        }
      ],
      "source": [
        "num1 = int(input(\"첫 번째 숫자 입력 ==>\"))\n",
        "num2 = int(input(\"두 번째 숫자 입력 ==>\"))\n",
        "\n",
        "result1 = num1,+ num2\n",
        "\n",
        "print(num1, \"+\", num2, \"=\", result1 )\n",
        "\n",
        "result2 = num1, - num2\n",
        "\n",
        "print(num1, \"-\", num2, \"=\", result2)\n",
        "\n",
        "result3 = num1 * num2\n",
        "\n",
        "print(num1, \"*\", num2, \"=\", result3)\n",
        "\n",
        "result4 = num1 / num2\n",
        "\n",
        "print(num1, \"/\", num2, \"=\", result4)"
      ]
    }
  ]
}