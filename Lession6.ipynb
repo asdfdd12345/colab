{
  "nbformat": 4,
  "nbformat_minor": 0,
  "metadata": {
    "colab": {
      "provenance": [],
      "authorship_tag": "ABX9TyN1pSA1KNdMYIHtujNB8wl7",
      "include_colab_link": true
    },
    "kernelspec": {
      "name": "python3",
      "display_name": "Python 3"
    },
    "language_info": {
      "name": "python"
    }
  },
  "cells": [
    {
      "cell_type": "markdown",
      "metadata": {
        "id": "view-in-github",
        "colab_type": "text"
      },
      "source": [
        "<a href=\"https://colab.research.google.com/github/asdfdd12345/colab/blob/main/Lession6.ipynb\" target=\"_parent\"><img src=\"https://colab.research.google.com/assets/colab-badge.svg\" alt=\"Open In Colab\"/></a>"
      ]
    },
    {
      "cell_type": "markdown",
      "source": [
        "6장 예제"
      ],
      "metadata": {
        "id": "5Y4ReNiLvCfK"
      }
    },
    {
      "cell_type": "code",
      "execution_count": null,
      "metadata": {
        "colab": {
          "base_uri": "https://localhost:8080/"
        },
        "id": "6N-OgQjFuyo0",
        "outputId": "817566c9-39c5-4487-eca7-81c4cf64e1e7"
      },
      "outputs": [
        {
          "output_type": "stream",
          "name": "stdout",
          "text": [
            "난생처음 파이썬은 재미있습니다. ^^\n",
            "난생처음 파이썬은 재미있습니다. ^^\n",
            "난생처음 파이썬은 재미있습니다. ^^\n"
          ]
        }
      ],
      "source": [
        "for i in range(3) :\n",
        "  print(\"난생처음 파이썬은 재미있습니다. ^^\")"
      ]
    },
    {
      "cell_type": "code",
      "source": [
        "myList = [\"짜장면\", \"김밥\", \"라면\"]\n",
        "for i in myList:\n",
        "  print(i)"
      ],
      "metadata": {
        "colab": {
          "base_uri": "https://localhost:8080/"
        },
        "id": "0ZCuVHJPwUxq",
        "outputId": "a2359b0a-74c6-486d-b3d4-b74b1c6fc382"
      },
      "execution_count": null,
      "outputs": [
        {
          "output_type": "stream",
          "name": "stdout",
          "text": [
            "짜장면\n",
            "김밥\n",
            "라면\n"
          ]
        }
      ]
    },
    {
      "cell_type": "code",
      "source": [
        "for i in range(2, 8, 2):\n",
        "   print(i)"
      ],
      "metadata": {
        "colab": {
          "base_uri": "https://localhost:8080/"
        },
        "id": "uNPOspY-v368",
        "outputId": "60fd1fd3-2844-4c6d-e3f9-5cc5e4329550"
      },
      "execution_count": null,
      "outputs": [
        {
          "output_type": "stream",
          "name": "stdout",
          "text": [
            "2\n",
            "4\n",
            "6\n"
          ]
        }
      ]
    },
    {
      "cell_type": "code",
      "source": [
        "sum = 0\n",
        "for i in range(1, 100, 2) :\n",
        "  sum = sum + i\n",
        "print(sum)  "
      ],
      "metadata": {
        "colab": {
          "base_uri": "https://localhost:8080/"
        },
        "id": "NeaQUAcAxAda",
        "outputId": "acd394f7-8481-4b7f-e8df-3ec470209eac"
      },
      "execution_count": null,
      "outputs": [
        {
          "output_type": "stream",
          "name": "stdout",
          "text": [
            "2500\n"
          ]
        }
      ]
    },
    {
      "cell_type": "code",
      "source": [
        "flag = 1\n",
        "sum = 0\n",
        "for i in range(1, 100,2 ):\n",
        "  if flag == 1 :\n",
        "    sum = sum + i\n",
        "    flag = flag * - 1\n",
        "  else:\n",
        "    sum = sum -i\n",
        "    flag = flag * - 1\n",
        "print(sum)      "
      ],
      "metadata": {
        "colab": {
          "base_uri": "https://localhost:8080/"
        },
        "id": "Nl2BhqIixs1i",
        "outputId": "9fe01ed4-9766-4b74-eaa6-e3c33f153ba5"
      },
      "execution_count": null,
      "outputs": [
        {
          "output_type": "stream",
          "name": "stdout",
          "text": [
            "-50\n"
          ]
        }
      ]
    },
    {
      "cell_type": "code",
      "source": [
        "fact = 1\n",
        "friends_num = 5\n",
        "\n",
        "for i in range(1, friends_num + 1, 1):\n",
        "  fact = fact + 1\n",
        "print(\"A,B,C,D,E 학생들을 순서대로 세우는 경우의 수 : \",fact)  "
      ],
      "metadata": {
        "colab": {
          "base_uri": "https://localhost:8080/"
        },
        "id": "bBGYcAwLvYZ7",
        "outputId": "e6504785-435d-4a0d-8317-e53372038a2a"
      },
      "execution_count": null,
      "outputs": [
        {
          "output_type": "stream",
          "name": "stdout",
          "text": [
            "A,B,C,D,E 학생들을 순서대로 세우는 경우의 수 :  6\n"
          ]
        }
      ]
    },
    {
      "cell_type": "code",
      "source": [
        "hap = 0\n",
        "\n",
        "for i in range(1, 11, 1):\n",
        "    hap = hap + i\n",
        "\n",
        "print(\"1에서 10까지의 합 : \", hap)\n"
      ],
      "metadata": {
        "colab": {
          "base_uri": "https://localhost:8080/"
        },
        "id": "8CBzq8Ia0uOw",
        "outputId": "2c8ff474-19e8-4034-b5c3-dfce03d44975"
      },
      "execution_count": null,
      "outputs": [
        {
          "output_type": "stream",
          "name": "stdout",
          "text": [
            "1에서 10까지의 합 :  55\n"
          ]
        }
      ]
    },
    {
      "cell_type": "code",
      "source": [
        "i, hap = 0, 0\n",
        "\n",
        "for i in range(1001, 2001, 2) :\n",
        "    hap += i\n",
        "\n",
        "print(\"1000에서 2000까지의 홀수의 합 :\", hap)    "
      ],
      "metadata": {
        "colab": {
          "base_uri": "https://localhost:8080/"
        },
        "id": "Eu_7oeeM17Fq",
        "outputId": "63d12518-4db6-451e-8f87-90a21591159d"
      },
      "execution_count": null,
      "outputs": [
        {
          "output_type": "stream",
          "name": "stdout",
          "text": [
            "1000에서 2000까지의 홀수의 합 : 750000\n"
          ]
        }
      ]
    },
    {
      "cell_type": "code",
      "source": [
        "for i in range (3) :\n",
        "    for k in range(2) :\n",
        "      print(\"난생처음은 쉽습니다. ^^ (i값:\", i,\",k값:\",k,\")\")\n",
        "    "
      ],
      "metadata": {
        "colab": {
          "base_uri": "https://localhost:8080/"
        },
        "id": "quJoZJxL2h0B",
        "outputId": "c1b7243b-3516-4084-f06a-37dd995d5ebb"
      },
      "execution_count": null,
      "outputs": [
        {
          "output_type": "stream",
          "name": "stdout",
          "text": [
            "난생처음은 쉽습니다. ^^ (i값: 0 ,k값: 0 )\n",
            "난생처음은 쉽습니다. ^^ (i값: 0 ,k값: 1 )\n",
            "난생처음은 쉽습니다. ^^ (i값: 1 ,k값: 0 )\n",
            "난생처음은 쉽습니다. ^^ (i값: 1 ,k값: 1 )\n",
            "난생처음은 쉽습니다. ^^ (i값: 2 ,k값: 0 )\n",
            "난생처음은 쉽습니다. ^^ (i값: 2 ,k값: 1 )\n"
          ]
        }
      ]
    },
    {
      "cell_type": "code",
      "source": [
        "for i in range(2,10):\n",
        " for j in range(1,10) :\n",
        "  print(i, \"X\", j, \"=\", i * j)\n",
        "  print(\"\")"
      ],
      "metadata": {
        "colab": {
          "base_uri": "https://localhost:8080/"
        },
        "id": "GAw5wXpp_NYC",
        "outputId": "50fa714e-dd8a-412d-bc82-1fc24a8ea551"
      },
      "execution_count": null,
      "outputs": [
        {
          "output_type": "stream",
          "name": "stdout",
          "text": [
            "2 X 1 = 2\n",
            "\n",
            "2 X 2 = 4\n",
            "\n",
            "2 X 3 = 6\n",
            "\n",
            "2 X 4 = 8\n",
            "\n",
            "2 X 5 = 10\n",
            "\n",
            "2 X 6 = 12\n",
            "\n",
            "2 X 7 = 14\n",
            "\n",
            "2 X 8 = 16\n",
            "\n",
            "2 X 9 = 18\n",
            "\n",
            "3 X 1 = 3\n",
            "\n",
            "3 X 2 = 6\n",
            "\n",
            "3 X 3 = 9\n",
            "\n",
            "3 X 4 = 12\n",
            "\n",
            "3 X 5 = 15\n",
            "\n",
            "3 X 6 = 18\n",
            "\n",
            "3 X 7 = 21\n",
            "\n",
            "3 X 8 = 24\n",
            "\n",
            "3 X 9 = 27\n",
            "\n",
            "4 X 1 = 4\n",
            "\n",
            "4 X 2 = 8\n",
            "\n",
            "4 X 3 = 12\n",
            "\n",
            "4 X 4 = 16\n",
            "\n",
            "4 X 5 = 20\n",
            "\n",
            "4 X 6 = 24\n",
            "\n",
            "4 X 7 = 28\n",
            "\n",
            "4 X 8 = 32\n",
            "\n",
            "4 X 9 = 36\n",
            "\n",
            "5 X 1 = 5\n",
            "\n",
            "5 X 2 = 10\n",
            "\n",
            "5 X 3 = 15\n",
            "\n",
            "5 X 4 = 20\n",
            "\n",
            "5 X 5 = 25\n",
            "\n",
            "5 X 6 = 30\n",
            "\n",
            "5 X 7 = 35\n",
            "\n",
            "5 X 8 = 40\n",
            "\n",
            "5 X 9 = 45\n",
            "\n",
            "6 X 1 = 6\n",
            "\n",
            "6 X 2 = 12\n",
            "\n",
            "6 X 3 = 18\n",
            "\n",
            "6 X 4 = 24\n",
            "\n",
            "6 X 5 = 30\n",
            "\n",
            "6 X 6 = 36\n",
            "\n",
            "6 X 7 = 42\n",
            "\n",
            "6 X 8 = 48\n",
            "\n",
            "6 X 9 = 54\n",
            "\n",
            "7 X 1 = 7\n",
            "\n",
            "7 X 2 = 14\n",
            "\n",
            "7 X 3 = 21\n",
            "\n",
            "7 X 4 = 28\n",
            "\n",
            "7 X 5 = 35\n",
            "\n",
            "7 X 6 = 42\n",
            "\n",
            "7 X 7 = 49\n",
            "\n",
            "7 X 8 = 56\n",
            "\n",
            "7 X 9 = 63\n",
            "\n",
            "8 X 1 = 8\n",
            "\n",
            "8 X 2 = 16\n",
            "\n",
            "8 X 3 = 24\n",
            "\n",
            "8 X 4 = 32\n",
            "\n",
            "8 X 5 = 40\n",
            "\n",
            "8 X 6 = 48\n",
            "\n",
            "8 X 7 = 56\n",
            "\n",
            "8 X 8 = 64\n",
            "\n",
            "8 X 9 = 72\n",
            "\n",
            "9 X 1 = 9\n",
            "\n",
            "9 X 2 = 18\n",
            "\n",
            "9 X 3 = 27\n",
            "\n",
            "9 X 4 = 36\n",
            "\n",
            "9 X 5 = 45\n",
            "\n",
            "9 X 6 = 54\n",
            "\n",
            "9 X 7 = 63\n",
            "\n",
            "9 X 8 = 72\n",
            "\n",
            "9 X 9 = 81\n",
            "\n"
          ]
        }
      ]
    },
    {
      "cell_type": "code",
      "source": [
        "hap = 0\n",
        "num1, num2 = 0, 0\n",
        "\n",
        "while True : 2\n",
        "  num1 = int(input(\"숫자1 ==> \"))\n",
        "  num2 = int(input(\"숫자2 ==> \"))\n",
        "\n",
        "  hap = num1 + num2\n",
        "  print(num1, \"+\", num2, \"=\", hap)"
      ],
      "metadata": {
        "colab": {
          "base_uri": "https://localhost:8080/",
          "height": 376
        },
        "id": "uwT1Oj02_q-8",
        "outputId": "9ebe11f6-db48-48a9-de1a-417ea8e50c3d"
      },
      "execution_count": null,
      "outputs": [
        {
          "name": "stdout",
          "output_type": "stream",
          "text": [
            "숫자1 ==> 3\n",
            "숫자2 ==> 4\n",
            "3 + 4 = 7\n",
            "숫자1 ==> 5\n",
            "숫자2 ==> 3\n",
            "5 + 3 = 8\n",
            "숫자1 ==> \n"
          ]
        },
        {
          "output_type": "error",
          "ename": "ValueError",
          "evalue": "ignored",
          "traceback": [
            "\u001b[0;31m---------------------------------------------------------------------------\u001b[0m",
            "\u001b[0;31mValueError\u001b[0m                                Traceback (most recent call last)",
            "\u001b[0;32m<ipython-input-3-fd54a59f1e77>\u001b[0m in \u001b[0;36m<module>\u001b[0;34m\u001b[0m\n\u001b[1;32m      3\u001b[0m \u001b[0;34m\u001b[0m\u001b[0m\n\u001b[1;32m      4\u001b[0m \u001b[0;32mwhile\u001b[0m \u001b[0;32mTrue\u001b[0m \u001b[0;34m:\u001b[0m\u001b[0;34m\u001b[0m\u001b[0;34m\u001b[0m\u001b[0m\n\u001b[0;32m----> 5\u001b[0;31m   \u001b[0mnum1\u001b[0m \u001b[0;34m=\u001b[0m \u001b[0mint\u001b[0m\u001b[0;34m(\u001b[0m\u001b[0minput\u001b[0m\u001b[0;34m(\u001b[0m\u001b[0;34m\"숫자1 ==> \"\u001b[0m\u001b[0;34m)\u001b[0m\u001b[0;34m)\u001b[0m\u001b[0;34m\u001b[0m\u001b[0;34m\u001b[0m\u001b[0m\n\u001b[0m\u001b[1;32m      6\u001b[0m   \u001b[0mnum2\u001b[0m \u001b[0;34m=\u001b[0m \u001b[0mint\u001b[0m\u001b[0;34m(\u001b[0m\u001b[0minput\u001b[0m\u001b[0;34m(\u001b[0m\u001b[0;34m\"숫자2 ==> \"\u001b[0m\u001b[0;34m)\u001b[0m\u001b[0;34m)\u001b[0m\u001b[0;34m\u001b[0m\u001b[0;34m\u001b[0m\u001b[0m\n\u001b[1;32m      7\u001b[0m \u001b[0;34m\u001b[0m\u001b[0m\n",
            "\u001b[0;31mValueError\u001b[0m: invalid literal for int() with base 10: ''"
          ]
        }
      ]
    },
    {
      "cell_type": "code",
      "source": [
        "import random\n",
        "count = 0\n",
        "while True :\n",
        "  r1, r2 = random.randint(1,6), random.randint(1,6)\n",
        "  r3 = random. randint(1,6)\n",
        "  count = count + 1\n",
        "  if r1 == r2 == r3 : break \n",
        "print(\"3개의 주사위는 모두 \", r1, \"나왔다.\")\n",
        "print(\"같은 숫자가 나오기까지 \", count,\" 번 던졌습니다.\")  \n",
        "\n"
      ],
      "metadata": {
        "colab": {
          "base_uri": "https://localhost:8080/"
        },
        "id": "k3VSfSMFBaqH",
        "outputId": "f182b167-61a9-433d-ae50-f67b2f17f6c1"
      },
      "execution_count": null,
      "outputs": [
        {
          "output_type": "stream",
          "name": "stdout",
          "text": [
            "3개의 주사위는 모두  6 나왔다.\n",
            "같은 숫자가 나오기까지  70  번 던졌습니다.\n"
          ]
        }
      ]
    },
    {
      "cell_type": "code",
      "source": [
        "import random \n",
        "\n",
        "computer, user = 0,0\n",
        "\n",
        "\n",
        "for i in range(1, 11) :\n",
        "  computer = random.randint(1, 5)\n",
        "  print(\"게임\", i, \"회:\", end='')\n",
        "  user = int(input(\"컴퓨터가 생각한 숫자는? \"))\n",
        "\n",
        "  if computer == user :\n",
        "    print(\"맞혔네요. 축하합니다!\")\n",
        "    break\n",
        "  else :\n",
        "    print(\"아까워요.\", computer, \" 였었는데. 다시 해.\")\n",
        "    continue\n",
        "print(\"게임을 마칩니다.\")    \n"
      ],
      "metadata": {
        "colab": {
          "base_uri": "https://localhost:8080/"
        },
        "id": "QUNx0965F8qV",
        "outputId": "f2a3141f-ab72-4b37-d07c-c712be48d3b0"
      },
      "execution_count": null,
      "outputs": [
        {
          "output_type": "stream",
          "name": "stdout",
          "text": [
            "게임 1 회:컴퓨터가 생각한 숫자는? 1\n",
            "맞혔네요. 축하합니다!\n",
            "게임을 마칩니다.\n"
          ]
        }
      ]
    },
    {
      "cell_type": "code",
      "source": [
        "import random\n",
        "com_list = [1,2,3,4,5,6,7,8,9]\n",
        "com_num, usr_num = [], []\n",
        "\n",
        "def usr_fun() :\n",
        "  usr = input(\"3개의 숫자를 입력(1~9까지) ==> \")\n",
        "  for i in range(0,5,2) :\n",
        "    usr_num.append(int(usr[i]))\n",
        "\n",
        "for i in range(3) :\n",
        "  r = random.choice(com_list)\n",
        "  com_list.remove(r)\n",
        "  com_num.append(r)\n",
        "\n",
        "print(\"** 야구 게임 **\")\n",
        "usr = input(\"3개의 숫자를 입력 ==> \")\n",
        "for i in range(0,5,2) :\n",
        "  usr_num.appen(int(usr[i]))\n",
        "\n",
        "strike, ball = 0, 0\n",
        "while True :\n",
        "  usr_num.clear()\n",
        "  usr_fun()\n",
        " for i in range(3) :\n",
        "  if com_num[i] == usr_num[i] :\n",
        "     strike = strike + 1 \n",
        "  elif usr_num[i] in com_num :\n",
        "    ball = ball + 1\n",
        " print(strike, \"스트라이크\", \" : \",ball, \"볼\")\n",
        " if strike == 3 : \n",
        " strike, ball = 0, 0"
      ],
      "metadata": {
        "colab": {
          "base_uri": "https://localhost:8080/",
          "height": 137
        },
        "id": "T1u_LlR2Kcd3",
        "outputId": "9c411cbe-b43f-4a80-fc11-21b81ecda95d"
      },
      "execution_count": null,
      "outputs": [
        {
          "output_type": "error",
          "ename": "IndentationError",
          "evalue": "ignored",
          "traceback": [
            "\u001b[0;36m  File \u001b[0;32m\"<tokenize>\"\u001b[0;36m, line \u001b[0;32m24\u001b[0m\n\u001b[0;31m    for i in range(3) :\u001b[0m\n\u001b[0m    ^\u001b[0m\n\u001b[0;31mIndentationError\u001b[0m\u001b[0;31m:\u001b[0m unindent does not match any outer indentation level\n"
          ]
        }
      ]
    },
    {
      "cell_type": "code",
      "source": [
        "!pip3 install ColabTurtle\n",
        "import ColabTurtle.Turtle as turtle\n",
        "import random\n",
        "print(turtle.DEFAULT_WINDOW_SIZE)\n",
        "turtle.initializeTurtle()\n",
        "turtle.speed(13)\n",
        "turtle.left(-90)\n",
        "\n",
        "myColor = [\"red\",\"blue\",\"green\",\"yellow\",\"violet\"]\n",
        "for i in range(50,800,50) :\n",
        "  for j in range(50, 500, 50) :\n",
        "    turtle.penup()\n",
        "    turtle.goto(i,j) \n",
        "    turtle.left(-90)\n",
        "    turtle.pendown()\n",
        "    turtle.color(random.choice(myColor))\n",
        "    turtle.forward(1)\n"
      ],
      "metadata": {
        "colab": {
          "base_uri": "https://localhost:8080/",
          "height": 575
        },
        "id": "5t3Ro9wUst8a",
        "outputId": "92d4fb36-779e-413f-942f-29c4a0e06520"
      },
      "execution_count": null,
      "outputs": [
        {
          "output_type": "stream",
          "name": "stdout",
          "text": [
            "Looking in indexes: https://pypi.org/simple, https://us-python.pkg.dev/colab-wheels/public/simple/\n",
            "Requirement already satisfied: ColabTurtle in /usr/local/lib/python3.7/dist-packages (2.1.0)\n",
            "(800, 500)\n"
          ]
        },
        {
          "output_type": "display_data",
          "data": {
            "text/plain": [
              "<IPython.core.display.HTML object>"
            ],
            "text/html": [
              "\n",
              "      <svg width=\"800\" height=\"500\">\n",
              "        <rect width=\"100%\" height=\"100%\" fill=\"black\"/>\n",
              "        <line x1=\"50\" y1=\"50\" x2=\"50.0\" y2=\"51.0\" stroke-linecap=\"round\" style=\"stroke:blue;stroke-width:4\"/><line x1=\"50\" y1=\"100\" x2=\"49.0\" y2=\"100.0\" stroke-linecap=\"round\" style=\"stroke:blue;stroke-width:4\"/><line x1=\"50\" y1=\"150\" x2=\"50.0\" y2=\"149.0\" stroke-linecap=\"round\" style=\"stroke:red;stroke-width:4\"/><line x1=\"50\" y1=\"200\" x2=\"51.0\" y2=\"200.0\" stroke-linecap=\"round\" style=\"stroke:yellow;stroke-width:4\"/><line x1=\"50\" y1=\"250\" x2=\"50.0\" y2=\"251.0\" stroke-linecap=\"round\" style=\"stroke:red;stroke-width:4\"/><line x1=\"50\" y1=\"300\" x2=\"49.0\" y2=\"300.0\" stroke-linecap=\"round\" style=\"stroke:blue;stroke-width:4\"/><line x1=\"50\" y1=\"350\" x2=\"50.0\" y2=\"349.0\" stroke-linecap=\"round\" style=\"stroke:green;stroke-width:4\"/><line x1=\"50\" y1=\"400\" x2=\"51.0\" y2=\"400.0\" stroke-linecap=\"round\" style=\"stroke:violet;stroke-width:4\"/><line x1=\"50\" y1=\"450\" x2=\"50.0\" y2=\"451.0\" stroke-linecap=\"round\" style=\"stroke:violet;stroke-width:4\"/><line x1=\"100\" y1=\"50\" x2=\"99.0\" y2=\"50.0\" stroke-linecap=\"round\" style=\"stroke:yellow;stroke-width:4\"/><line x1=\"100\" y1=\"100\" x2=\"100.0\" y2=\"99.0\" stroke-linecap=\"round\" style=\"stroke:violet;stroke-width:4\"/><line x1=\"100\" y1=\"150\" x2=\"101.0\" y2=\"150.0\" stroke-linecap=\"round\" style=\"stroke:red;stroke-width:4\"/><line x1=\"100\" y1=\"200\" x2=\"100.0\" y2=\"201.0\" stroke-linecap=\"round\" style=\"stroke:blue;stroke-width:4\"/><line x1=\"100\" y1=\"250\" x2=\"99.0\" y2=\"250.0\" stroke-linecap=\"round\" style=\"stroke:green;stroke-width:4\"/><line x1=\"100\" y1=\"300\" x2=\"100.0\" y2=\"299.0\" stroke-linecap=\"round\" style=\"stroke:red;stroke-width:4\"/><line x1=\"100\" y1=\"350\" x2=\"101.0\" y2=\"350.0\" stroke-linecap=\"round\" style=\"stroke:yellow;stroke-width:4\"/><line x1=\"100\" y1=\"400\" x2=\"100.0\" y2=\"401.0\" stroke-linecap=\"round\" style=\"stroke:violet;stroke-width:4\"/><line x1=\"100\" y1=\"450\" x2=\"99.0\" y2=\"450.0\" stroke-linecap=\"round\" style=\"stroke:blue;stroke-width:4\"/><line x1=\"150\" y1=\"50\" x2=\"150.0\" y2=\"49.0\" stroke-linecap=\"round\" style=\"stroke:blue;stroke-width:4\"/><line x1=\"150\" y1=\"100\" x2=\"151.0\" y2=\"100.0\" stroke-linecap=\"round\" style=\"stroke:yellow;stroke-width:4\"/><line x1=\"150\" y1=\"150\" x2=\"150.0\" y2=\"151.0\" stroke-linecap=\"round\" style=\"stroke:green;stroke-width:4\"/><line x1=\"150\" y1=\"200\" x2=\"149.0\" y2=\"200.0\" stroke-linecap=\"round\" style=\"stroke:violet;stroke-width:4\"/><line x1=\"150\" y1=\"250\" x2=\"150.0\" y2=\"249.0\" stroke-linecap=\"round\" style=\"stroke:yellow;stroke-width:4\"/><line x1=\"150\" y1=\"300\" x2=\"151.0\" y2=\"300.0\" stroke-linecap=\"round\" style=\"stroke:violet;stroke-width:4\"/><line x1=\"150\" y1=\"350\" x2=\"150.0\" y2=\"351.0\" stroke-linecap=\"round\" style=\"stroke:blue;stroke-width:4\"/><line x1=\"150\" y1=\"400\" x2=\"149.0\" y2=\"400.0\" stroke-linecap=\"round\" style=\"stroke:blue;stroke-width:4\"/><line x1=\"150\" y1=\"450\" x2=\"150.0\" y2=\"449.0\" stroke-linecap=\"round\" style=\"stroke:red;stroke-width:4\"/><line x1=\"200\" y1=\"50\" x2=\"201.0\" y2=\"50.0\" stroke-linecap=\"round\" style=\"stroke:green;stroke-width:4\"/><line x1=\"200\" y1=\"100\" x2=\"200.0\" y2=\"101.0\" stroke-linecap=\"round\" style=\"stroke:blue;stroke-width:4\"/><line x1=\"200\" y1=\"150\" x2=\"199.0\" y2=\"150.0\" stroke-linecap=\"round\" style=\"stroke:green;stroke-width:4\"/><line x1=\"200\" y1=\"200\" x2=\"200.0\" y2=\"199.0\" stroke-linecap=\"round\" style=\"stroke:blue;stroke-width:4\"/><line x1=\"200\" y1=\"250\" x2=\"201.0\" y2=\"250.0\" stroke-linecap=\"round\" style=\"stroke:violet;stroke-width:4\"/><line x1=\"200\" y1=\"300\" x2=\"200.0\" y2=\"301.0\" stroke-linecap=\"round\" style=\"stroke:green;stroke-width:4\"/><line x1=\"200\" y1=\"350\" x2=\"199.0\" y2=\"350.0\" stroke-linecap=\"round\" style=\"stroke:blue;stroke-width:4\"/><line x1=\"200\" y1=\"400\" x2=\"200.0\" y2=\"399.0\" stroke-linecap=\"round\" style=\"stroke:red;stroke-width:4\"/><line x1=\"200\" y1=\"450\" x2=\"201.0\" y2=\"450.0\" stroke-linecap=\"round\" style=\"stroke:yellow;stroke-width:4\"/><line x1=\"250\" y1=\"50\" x2=\"250.0\" y2=\"51.0\" stroke-linecap=\"round\" style=\"stroke:blue;stroke-width:4\"/><line x1=\"250\" y1=\"100\" x2=\"249.0\" y2=\"100.0\" stroke-linecap=\"round\" style=\"stroke:red;stroke-width:4\"/><line x1=\"250\" y1=\"150\" x2=\"250.0\" y2=\"149.0\" stroke-linecap=\"round\" style=\"stroke:blue;stroke-width:4\"/><line x1=\"250\" y1=\"200\" x2=\"251.0\" y2=\"200.0\" stroke-linecap=\"round\" style=\"stroke:yellow;stroke-width:4\"/><line x1=\"250\" y1=\"250\" x2=\"250.0\" y2=\"251.0\" stroke-linecap=\"round\" style=\"stroke:violet;stroke-width:4\"/><line x1=\"250\" y1=\"300\" x2=\"249.0\" y2=\"300.0\" stroke-linecap=\"round\" style=\"stroke:green;stroke-width:4\"/><line x1=\"250\" y1=\"350\" x2=\"250.0\" y2=\"349.0\" stroke-linecap=\"round\" style=\"stroke:yellow;stroke-width:4\"/><line x1=\"250\" y1=\"400\" x2=\"251.0\" y2=\"400.0\" stroke-linecap=\"round\" style=\"stroke:green;stroke-width:4\"/><line x1=\"250\" y1=\"450\" x2=\"250.0\" y2=\"451.0\" stroke-linecap=\"round\" style=\"stroke:blue;stroke-width:4\"/><line x1=\"300\" y1=\"50\" x2=\"299.0\" y2=\"50.0\" stroke-linecap=\"round\" style=\"stroke:red;stroke-width:4\"/><line x1=\"300\" y1=\"100\" x2=\"300.0\" y2=\"99.0\" stroke-linecap=\"round\" style=\"stroke:green;stroke-width:4\"/><line x1=\"300\" y1=\"150\" x2=\"301.0\" y2=\"150.0\" stroke-linecap=\"round\" style=\"stroke:yellow;stroke-width:4\"/><line x1=\"300\" y1=\"200\" x2=\"300.0\" y2=\"201.0\" stroke-linecap=\"round\" style=\"stroke:yellow;stroke-width:4\"/><line x1=\"300\" y1=\"250\" x2=\"299.0\" y2=\"250.0\" stroke-linecap=\"round\" style=\"stroke:violet;stroke-width:4\"/><line x1=\"300\" y1=\"300\" x2=\"300.0\" y2=\"299.0\" stroke-linecap=\"round\" style=\"stroke:red;stroke-width:4\"/><line x1=\"300\" y1=\"350\" x2=\"301.0\" y2=\"350.0\" stroke-linecap=\"round\" style=\"stroke:red;stroke-width:4\"/><line x1=\"300\" y1=\"400\" x2=\"300.0\" y2=\"401.0\" stroke-linecap=\"round\" style=\"stroke:violet;stroke-width:4\"/><line x1=\"300\" y1=\"450\" x2=\"299.0\" y2=\"450.0\" stroke-linecap=\"round\" style=\"stroke:violet;stroke-width:4\"/><line x1=\"350\" y1=\"50\" x2=\"350.0\" y2=\"49.0\" stroke-linecap=\"round\" style=\"stroke:blue;stroke-width:4\"/><line x1=\"350\" y1=\"100\" x2=\"351.0\" y2=\"100.0\" stroke-linecap=\"round\" style=\"stroke:blue;stroke-width:4\"/><line x1=\"350\" y1=\"150\" x2=\"350.0\" y2=\"151.0\" stroke-linecap=\"round\" style=\"stroke:green;stroke-width:4\"/><line x1=\"350\" y1=\"200\" x2=\"349.0\" y2=\"200.0\" stroke-linecap=\"round\" style=\"stroke:green;stroke-width:4\"/><line x1=\"350\" y1=\"250\" x2=\"350.0\" y2=\"249.0\" stroke-linecap=\"round\" style=\"stroke:blue;stroke-width:4\"/><line x1=\"350\" y1=\"300\" x2=\"351.0\" y2=\"300.0\" stroke-linecap=\"round\" style=\"stroke:red;stroke-width:4\"/><line x1=\"350\" y1=\"350\" x2=\"350.0\" y2=\"351.0\" stroke-linecap=\"round\" style=\"stroke:violet;stroke-width:4\"/><line x1=\"350\" y1=\"400\" x2=\"349.0\" y2=\"400.0\" stroke-linecap=\"round\" style=\"stroke:violet;stroke-width:4\"/><line x1=\"350\" y1=\"450\" x2=\"350.0\" y2=\"449.0\" stroke-linecap=\"round\" style=\"stroke:blue;stroke-width:4\"/><line x1=\"400\" y1=\"50\" x2=\"401.0\" y2=\"50.0\" stroke-linecap=\"round\" style=\"stroke:yellow;stroke-width:4\"/><line x1=\"400\" y1=\"100\" x2=\"400.0\" y2=\"101.0\" stroke-linecap=\"round\" style=\"stroke:green;stroke-width:4\"/><line x1=\"400\" y1=\"150\" x2=\"399.0\" y2=\"150.0\" stroke-linecap=\"round\" style=\"stroke:blue;stroke-width:4\"/><line x1=\"400\" y1=\"200\" x2=\"400.0\" y2=\"199.0\" stroke-linecap=\"round\" style=\"stroke:violet;stroke-width:4\"/><line x1=\"400\" y1=\"250\" x2=\"401.0\" y2=\"250.0\" stroke-linecap=\"round\" style=\"stroke:blue;stroke-width:4\"/><line x1=\"400\" y1=\"300\" x2=\"400.0\" y2=\"301.0\" stroke-linecap=\"round\" style=\"stroke:green;stroke-width:4\"/><line x1=\"400\" y1=\"350\" x2=\"399.0\" y2=\"350.0\" stroke-linecap=\"round\" style=\"stroke:blue;stroke-width:4\"/><line x1=\"400\" y1=\"400\" x2=\"400.0\" y2=\"399.0\" stroke-linecap=\"round\" style=\"stroke:violet;stroke-width:4\"/><line x1=\"400\" y1=\"450\" x2=\"401.0\" y2=\"450.0\" stroke-linecap=\"round\" style=\"stroke:blue;stroke-width:4\"/><line x1=\"450\" y1=\"50\" x2=\"450.0\" y2=\"51.0\" stroke-linecap=\"round\" style=\"stroke:green;stroke-width:4\"/><line x1=\"450\" y1=\"100\" x2=\"449.0\" y2=\"100.0\" stroke-linecap=\"round\" style=\"stroke:violet;stroke-width:4\"/><line x1=\"450\" y1=\"150\" x2=\"450.0\" y2=\"149.0\" stroke-linecap=\"round\" style=\"stroke:blue;stroke-width:4\"/><line x1=\"450\" y1=\"200\" x2=\"451.0\" y2=\"200.0\" stroke-linecap=\"round\" style=\"stroke:blue;stroke-width:4\"/><line x1=\"450\" y1=\"250\" x2=\"450.0\" y2=\"251.0\" stroke-linecap=\"round\" style=\"stroke:violet;stroke-width:4\"/><line x1=\"450\" y1=\"300\" x2=\"449.0\" y2=\"300.0\" stroke-linecap=\"round\" style=\"stroke:green;stroke-width:4\"/><line x1=\"450\" y1=\"350\" x2=\"450.0\" y2=\"349.0\" stroke-linecap=\"round\" style=\"stroke:yellow;stroke-width:4\"/><line x1=\"450\" y1=\"400\" x2=\"451.0\" y2=\"400.0\" stroke-linecap=\"round\" style=\"stroke:green;stroke-width:4\"/><line x1=\"450\" y1=\"450\" x2=\"450.0\" y2=\"451.0\" stroke-linecap=\"round\" style=\"stroke:red;stroke-width:4\"/><line x1=\"500\" y1=\"50\" x2=\"499.0\" y2=\"50.0\" stroke-linecap=\"round\" style=\"stroke:violet;stroke-width:4\"/><line x1=\"500\" y1=\"100\" x2=\"500.0\" y2=\"99.0\" stroke-linecap=\"round\" style=\"stroke:yellow;stroke-width:4\"/><line x1=\"500\" y1=\"150\" x2=\"501.0\" y2=\"150.0\" stroke-linecap=\"round\" style=\"stroke:red;stroke-width:4\"/><line x1=\"500\" y1=\"200\" x2=\"500.0\" y2=\"201.0\" stroke-linecap=\"round\" style=\"stroke:green;stroke-width:4\"/><line x1=\"500\" y1=\"250\" x2=\"499.0\" y2=\"250.0\" stroke-linecap=\"round\" style=\"stroke:blue;stroke-width:4\"/><line x1=\"500\" y1=\"300\" x2=\"500.0\" y2=\"299.0\" stroke-linecap=\"round\" style=\"stroke:red;stroke-width:4\"/><line x1=\"500\" y1=\"350\" x2=\"501.0\" y2=\"350.0\" stroke-linecap=\"round\" style=\"stroke:green;stroke-width:4\"/><line x1=\"500\" y1=\"400\" x2=\"500.0\" y2=\"401.0\" stroke-linecap=\"round\" style=\"stroke:green;stroke-width:4\"/><line x1=\"500\" y1=\"450\" x2=\"499.0\" y2=\"450.0\" stroke-linecap=\"round\" style=\"stroke:violet;stroke-width:4\"/><line x1=\"550\" y1=\"50\" x2=\"550.0\" y2=\"49.0\" stroke-linecap=\"round\" style=\"stroke:yellow;stroke-width:4\"/><line x1=\"550\" y1=\"100\" x2=\"551.0\" y2=\"100.0\" stroke-linecap=\"round\" style=\"stroke:yellow;stroke-width:4\"/><line x1=\"550\" y1=\"150\" x2=\"550.0\" y2=\"151.0\" stroke-linecap=\"round\" style=\"stroke:green;stroke-width:4\"/><line x1=\"550\" y1=\"200\" x2=\"549.0\" y2=\"200.0\" stroke-linecap=\"round\" style=\"stroke:blue;stroke-width:4\"/><line x1=\"550\" y1=\"250\" x2=\"550.0\" y2=\"249.0\" stroke-linecap=\"round\" style=\"stroke:red;stroke-width:4\"/><line x1=\"550\" y1=\"300\" x2=\"551.0\" y2=\"300.0\" stroke-linecap=\"round\" style=\"stroke:yellow;stroke-width:4\"/><line x1=\"550\" y1=\"350\" x2=\"550.0\" y2=\"351.0\" stroke-linecap=\"round\" style=\"stroke:yellow;stroke-width:4\"/><line x1=\"550\" y1=\"400\" x2=\"549.0\" y2=\"400.0\" stroke-linecap=\"round\" style=\"stroke:violet;stroke-width:4\"/><line x1=\"550\" y1=\"450\" x2=\"550.0\" y2=\"449.0\" stroke-linecap=\"round\" style=\"stroke:blue;stroke-width:4\"/><line x1=\"600\" y1=\"50\" x2=\"601.0\" y2=\"50.0\" stroke-linecap=\"round\" style=\"stroke:violet;stroke-width:4\"/><line x1=\"600\" y1=\"100\" x2=\"600.0\" y2=\"101.0\" stroke-linecap=\"round\" style=\"stroke:green;stroke-width:4\"/><line x1=\"600\" y1=\"150\" x2=\"599.0\" y2=\"150.0\" stroke-linecap=\"round\" style=\"stroke:blue;stroke-width:4\"/><line x1=\"600\" y1=\"200\" x2=\"600.0\" y2=\"199.0\" stroke-linecap=\"round\" style=\"stroke:blue;stroke-width:4\"/><line x1=\"600\" y1=\"250\" x2=\"601.0\" y2=\"250.0\" stroke-linecap=\"round\" style=\"stroke:blue;stroke-width:4\"/><line x1=\"600\" y1=\"300\" x2=\"600.0\" y2=\"301.0\" stroke-linecap=\"round\" style=\"stroke:yellow;stroke-width:4\"/><line x1=\"600\" y1=\"350\" x2=\"599.0\" y2=\"350.0\" stroke-linecap=\"round\" style=\"stroke:blue;stroke-width:4\"/><line x1=\"600\" y1=\"400\" x2=\"600.0\" y2=\"399.0\" stroke-linecap=\"round\" style=\"stroke:yellow;stroke-width:4\"/><line x1=\"600\" y1=\"450\" x2=\"601.0\" y2=\"450.0\" stroke-linecap=\"round\" style=\"stroke:red;stroke-width:4\"/><line x1=\"650\" y1=\"50\" x2=\"650.0\" y2=\"51.0\" stroke-linecap=\"round\" style=\"stroke:green;stroke-width:4\"/><line x1=\"650\" y1=\"100\" x2=\"649.0\" y2=\"100.0\" stroke-linecap=\"round\" style=\"stroke:blue;stroke-width:4\"/><line x1=\"650\" y1=\"150\" x2=\"650.0\" y2=\"149.0\" stroke-linecap=\"round\" style=\"stroke:red;stroke-width:4\"/><line x1=\"650\" y1=\"200\" x2=\"651.0\" y2=\"200.0\" stroke-linecap=\"round\" style=\"stroke:yellow;stroke-width:4\"/><line x1=\"650\" y1=\"250\" x2=\"650.0\" y2=\"251.0\" stroke-linecap=\"round\" style=\"stroke:blue;stroke-width:4\"/><line x1=\"650\" y1=\"300\" x2=\"649.0\" y2=\"300.0\" stroke-linecap=\"round\" style=\"stroke:red;stroke-width:4\"/><line x1=\"650\" y1=\"350\" x2=\"650.0\" y2=\"349.0\" stroke-linecap=\"round\" style=\"stroke:violet;stroke-width:4\"/><line x1=\"650\" y1=\"400\" x2=\"651.0\" y2=\"400.0\" stroke-linecap=\"round\" style=\"stroke:red;stroke-width:4\"/><line x1=\"650\" y1=\"450\" x2=\"650.0\" y2=\"451.0\" stroke-linecap=\"round\" style=\"stroke:blue;stroke-width:4\"/><line x1=\"700\" y1=\"50\" x2=\"699.0\" y2=\"50.0\" stroke-linecap=\"round\" style=\"stroke:blue;stroke-width:4\"/><line x1=\"700\" y1=\"100\" x2=\"700.0\" y2=\"99.0\" stroke-linecap=\"round\" style=\"stroke:green;stroke-width:4\"/><line x1=\"700\" y1=\"150\" x2=\"701.0\" y2=\"150.0\" stroke-linecap=\"round\" style=\"stroke:blue;stroke-width:4\"/><line x1=\"700\" y1=\"200\" x2=\"700.0\" y2=\"201.0\" stroke-linecap=\"round\" style=\"stroke:blue;stroke-width:4\"/><line x1=\"700\" y1=\"250\" x2=\"699.0\" y2=\"250.0\" stroke-linecap=\"round\" style=\"stroke:violet;stroke-width:4\"/><line x1=\"700\" y1=\"300\" x2=\"700.0\" y2=\"299.0\" stroke-linecap=\"round\" style=\"stroke:green;stroke-width:4\"/><line x1=\"700\" y1=\"350\" x2=\"701.0\" y2=\"350.0\" stroke-linecap=\"round\" style=\"stroke:blue;stroke-width:4\"/><line x1=\"700\" y1=\"400\" x2=\"700.0\" y2=\"401.0\" stroke-linecap=\"round\" style=\"stroke:violet;stroke-width:4\"/><line x1=\"700\" y1=\"450\" x2=\"699.0\" y2=\"450.0\" stroke-linecap=\"round\" style=\"stroke:red;stroke-width:4\"/><line x1=\"750\" y1=\"50\" x2=\"750.0\" y2=\"49.0\" stroke-linecap=\"round\" style=\"stroke:blue;stroke-width:4\"/><line x1=\"750\" y1=\"100\" x2=\"751.0\" y2=\"100.0\" stroke-linecap=\"round\" style=\"stroke:blue;stroke-width:4\"/><line x1=\"750\" y1=\"150\" x2=\"750.0\" y2=\"151.0\" stroke-linecap=\"round\" style=\"stroke:violet;stroke-width:4\"/><line x1=\"750\" y1=\"200\" x2=\"749.0\" y2=\"200.0\" stroke-linecap=\"round\" style=\"stroke:green;stroke-width:4\"/><line x1=\"750\" y1=\"250\" x2=\"750.0\" y2=\"249.0\" stroke-linecap=\"round\" style=\"stroke:green;stroke-width:4\"/><line x1=\"750\" y1=\"300\" x2=\"751.0\" y2=\"300.0\" stroke-linecap=\"round\" style=\"stroke:red;stroke-width:4\"/><line x1=\"750\" y1=\"350\" x2=\"750.0\" y2=\"351.0\" stroke-linecap=\"round\" style=\"stroke:red;stroke-width:4\"/><line x1=\"750\" y1=\"400\" x2=\"749.0\" y2=\"400.0\" stroke-linecap=\"round\" style=\"stroke:red;stroke-width:4\"/><line x1=\"750\" y1=\"450\" x2=\"750.0\" y2=\"449.0\" stroke-linecap=\"round\" style=\"stroke:violet;stroke-width:4\"/>\n",
              "        <g visibility=visible transform=\"rotate(360,750.0,449.0) translate(732.0, 431.0)\">\n",
              "<path style=\" stroke:none;fill-rule:evenodd;fill:violet;fill-opacity:1;\" d=\"M 18.214844 0.632812 C 16.109375 1.800781 15.011719 4.074219 15.074219 7.132812 L 15.085938 7.652344 L 14.785156 7.496094 C 13.476562 6.824219 11.957031 6.671875 10.40625 7.066406 C 8.46875 7.550781 6.515625 9.15625 4.394531 11.992188 C 3.0625 13.777344 2.679688 14.636719 3.042969 15.027344 L 3.15625 15.152344 L 3.519531 15.152344 C 4.238281 15.152344 4.828125 14.886719 8.1875 13.039062 C 9.386719 12.378906 10.371094 11.839844 10.378906 11.839844 C 10.386719 11.839844 10.355469 11.929688 10.304688 12.035156 C 9.832031 13.09375 9.257812 14.820312 8.96875 16.078125 C 7.914062 20.652344 8.617188 24.53125 11.070312 27.660156 C 11.351562 28.015625 11.363281 27.914062 10.972656 28.382812 C 8.925781 30.84375 7.945312 33.28125 8.238281 35.1875 C 8.289062 35.527344 8.28125 35.523438 8.917969 35.523438 C 10.941406 35.523438 13.074219 34.207031 15.136719 31.6875 C 15.359375 31.417969 15.328125 31.425781 15.5625 31.574219 C 16.292969 32.042969 18.023438 32.964844 18.175781 32.964844 C 18.335938 32.964844 19.941406 32.210938 20.828125 31.71875 C 20.996094 31.625 21.136719 31.554688 21.136719 31.558594 C 21.203125 31.664062 21.898438 32.414062 22.222656 32.730469 C 23.835938 34.300781 25.5625 35.132812 27.582031 35.300781 C 27.90625 35.328125 27.9375 35.308594 28.007812 34.984375 C 28.382812 33.242188 27.625 30.925781 25.863281 28.425781 L 25.542969 27.96875 L 25.699219 27.785156 C 28.945312 23.960938 29.132812 18.699219 26.257812 11.96875 L 26.207031 11.84375 L 27.945312 12.703125 C 31.53125 14.476562 32.316406 14.800781 33.03125 14.800781 C 33.976562 14.800781 33.78125 13.9375 32.472656 12.292969 C 28.519531 7.355469 25.394531 5.925781 21.921875 7.472656 L 21.558594 7.636719 L 21.578125 7.542969 C 21.699219 6.992188 21.761719 5.742188 21.699219 5.164062 C 21.496094 3.296875 20.664062 1.964844 19.003906 0.855469 C 18.480469 0.503906 18.457031 0.5 18.214844 0.632812\"/>\n",
              "</g>\n",
              "      </svg>\n",
              "    "
            ]
          },
          "metadata": {}
        }
      ]
    },
    {
      "cell_type": "code",
      "source": [
        "import random\n",
        "wiseSay =[\"삶이 있는 한 희망은 있다\",\n",
        "         \"피할수없으면즐겨라\",\n",
        "         \"우끼우끼우끼끼\",\n",
        "         ]\n",
        "today = random.randint(0,len(wiseSay)-1)\n",
        "print(\"오늘의 명언 ==>\",wiseSay[today])           "
      ],
      "metadata": {
        "id": "wgewlPLT0RyY",
        "colab": {
          "base_uri": "https://localhost:8080/"
        },
        "outputId": "76b69f96-cb18-40c6-ece5-0a874e01ce58"
      },
      "execution_count": null,
      "outputs": [
        {
          "output_type": "stream",
          "name": "stdout",
          "text": [
            "오늘의 명언 ==> 우끼우끼우끼끼\n"
          ]
        }
      ]
    },
    {
      "cell_type": "code",
      "source": [
        "numList2 = [[1,2,3,4],\n",
        "            [5,6,7,8],\n",
        "            [9,10,11,12]],\n",
        "for i in range(0,3) :\n",
        "  for k in range(0, 4) :\n",
        "    print(\" \",numList2[i][k],end='')\n",
        "  print(\"\")            \n"
      ],
      "metadata": {
        "colab": {
          "base_uri": "https://localhost:8080/",
          "height": 246
        },
        "id": "cxoyfBx_yKtF",
        "outputId": "41823b4b-0c4b-442a-93d1-93c090ac4ae8"
      },
      "execution_count": null,
      "outputs": [
        {
          "output_type": "stream",
          "name": "stdout",
          "text": [
            "  [1, 2, 3, 4]  [5, 6, 7, 8]  [9, 10, 11, 12]"
          ]
        },
        {
          "output_type": "error",
          "ename": "IndexError",
          "evalue": "ignored",
          "traceback": [
            "\u001b[0;31m---------------------------------------------------------------------------\u001b[0m",
            "\u001b[0;31mIndexError\u001b[0m                                Traceback (most recent call last)",
            "\u001b[0;32m<ipython-input-19-1e3d775f147c>\u001b[0m in \u001b[0;36m<module>\u001b[0;34m\u001b[0m\n\u001b[1;32m      4\u001b[0m \u001b[0;32mfor\u001b[0m \u001b[0mi\u001b[0m \u001b[0;32min\u001b[0m \u001b[0mrange\u001b[0m\u001b[0;34m(\u001b[0m\u001b[0;36m0\u001b[0m\u001b[0;34m,\u001b[0m\u001b[0;36m3\u001b[0m\u001b[0;34m)\u001b[0m \u001b[0;34m:\u001b[0m\u001b[0;34m\u001b[0m\u001b[0;34m\u001b[0m\u001b[0m\n\u001b[1;32m      5\u001b[0m   \u001b[0;32mfor\u001b[0m \u001b[0mk\u001b[0m \u001b[0;32min\u001b[0m \u001b[0mrange\u001b[0m\u001b[0;34m(\u001b[0m\u001b[0;36m0\u001b[0m\u001b[0;34m,\u001b[0m \u001b[0;36m4\u001b[0m\u001b[0;34m)\u001b[0m \u001b[0;34m:\u001b[0m\u001b[0;34m\u001b[0m\u001b[0;34m\u001b[0m\u001b[0m\n\u001b[0;32m----> 6\u001b[0;31m     \u001b[0mprint\u001b[0m\u001b[0;34m(\u001b[0m\u001b[0;34m\" \"\u001b[0m\u001b[0;34m,\u001b[0m\u001b[0mnumList2\u001b[0m\u001b[0;34m[\u001b[0m\u001b[0mi\u001b[0m\u001b[0;34m]\u001b[0m\u001b[0;34m[\u001b[0m\u001b[0mk\u001b[0m\u001b[0;34m]\u001b[0m\u001b[0;34m,\u001b[0m\u001b[0mend\u001b[0m\u001b[0;34m=\u001b[0m\u001b[0;34m''\u001b[0m\u001b[0;34m)\u001b[0m\u001b[0;34m\u001b[0m\u001b[0;34m\u001b[0m\u001b[0m\n\u001b[0m\u001b[1;32m      7\u001b[0m   \u001b[0mprint\u001b[0m\u001b[0;34m(\u001b[0m\u001b[0;34m\"\"\u001b[0m\u001b[0;34m)\u001b[0m\u001b[0;34m\u001b[0m\u001b[0;34m\u001b[0m\u001b[0m\n",
            "\u001b[0;31mIndexError\u001b[0m: list index out of range"
          ]
        }
      ]
    },
    {
      "cell_type": "code",
      "source": [
        "print(\"김진선 선수 경기 끝났습니다\")\n",
        "\n",
        "score = []\n",
        "for  i in range(5) :\n",
        "  jumsu =int(input(\"평균점수==>\"))\n",
        "  score.append(jumsu)\n",
        "hap = 0\n",
        "for i in range(5) :\n",
        "  hap += score[i]\n",
        "\n",
        "avg = hap /5\n",
        "print(\"심사위원 평균점수 :\",avg)\n",
        "\n",
        "\n"
      ],
      "metadata": {
        "colab": {
          "base_uri": "https://localhost:8080/"
        },
        "id": "oa8TaFIi7yjO",
        "outputId": "1a289ae2-a125-4527-beb3-0380e583d0b5"
      },
      "execution_count": null,
      "outputs": [
        {
          "output_type": "stream",
          "name": "stdout",
          "text": [
            "김진선 선수 경기 끝났습니다\n",
            "평균점수==>50\n",
            "평균점수==>30\n",
            "평균점수==>20\n",
            "평균점수==>30\n",
            "평균점수==>40\n",
            "심사위원 평균점수 : 34.0\n"
          ]
        }
      ]
    },
    {
      "cell_type": "code",
      "source": [
        "toss = []\n",
        "\n",
        "for i in range(10000) :\n",
        "    comA = random.choice([\"가위\",\"바위\",\"보\"])\n",
        "    comB = random.choice([\"가위\",\"바위\",\"보\"])\n",
        "\n",
        "    if (comA == comB) :\n",
        "       toss.append(\"비김\")\n",
        "    elif (comA == \"가위\") and (comB == \"보\") or \\  \n",
        "         (comA == \"바위\") and (comB ==\" 가위\") or \\\n",
        "         (comA == \"보\") and (comB == \"바위\") : \\\n",
        "        toss.append(\"A\")\n",
        "       else :\n",
        "        toss.append(\"B\")\n",
        "\n",
        "a\\in = toss.count(\"A\")\n",
        "b\\in = toss.count(\"B\")"
      ],
      "metadata": {
        "colab": {
          "base_uri": "https://localhost:8080/",
          "height": 137
        },
        "id": "7YRKSuS69mU1",
        "outputId": "5d0474e5-268e-46bd-9b3e-3b7ad217ca56"
      },
      "execution_count": null,
      "outputs": [
        {
          "output_type": "error",
          "ename": "SyntaxError",
          "evalue": "ignored",
          "traceback": [
            "\u001b[0;36m  File \u001b[0;32m\"<ipython-input-24-bfeeb3c7d2cb>\"\u001b[0;36m, line \u001b[0;32m9\u001b[0m\n\u001b[0;31m    elif (comA == \"가위\") and (comB == \"보\") or \\\u001b[0m\n\u001b[0m                                                ^\u001b[0m\n\u001b[0;31mSyntaxError\u001b[0m\u001b[0;31m:\u001b[0m unexpected character after line continuation character\n"
          ]
        }
      ]
    },
    {
      "cell_type": "code",
      "source": [
        "singer = {}\n",
        "singer['이름'] = '트와이스'\n",
        "singer['구성원수'] = 9\n",
        "singer['데뷰'] = '서바이벌 식스틴'\n",
        "singer['대표곡'] = 'cry for me'\n",
        "\n",
        "for k in singer.keys() :\n",
        "    print(k, \"==>\", singer[k])"
      ],
      "metadata": {
        "colab": {
          "base_uri": "https://localhost:8080/"
        },
        "id": "kiohiP2jAMWH",
        "outputId": "049b3b11-1acf-4683-b164-d1a42af85836"
      },
      "execution_count": null,
      "outputs": [
        {
          "output_type": "stream",
          "name": "stdout",
          "text": [
            "이름 ==> 트와이스\n",
            "구성원수 ==> 9\n",
            "데뷰 ==> 서바이벌 식스틴\n",
            "대표곡 ==> cry for me\n"
          ]
        }
      ]
    },
    {
      "cell_type": "code",
      "source": [
        "store = {}\n",
        "print(\"*** 물품과 재고량 입력 ***\")\n",
        "while True :\n",
        "  item = input(\"입력 물폼 ==>\")\n",
        "  if item == \"z\" :\n",
        "    break\n",
        "  count = int(input(\"재고량 ==>\"))\n",
        " store[item] = count\n",
        "\n",
        "print(\"***물품의 재고량 확인 ***\")\n",
        "while Ture :\n",
        "  item = input(\"찾을 물폼 ==>\")\n",
        "  if item ==\"\":\n",
        "    break\n",
        "  if item in store :\n",
        "      print(store[item], \" 개 남았어요\")\n",
        "  else :\n",
        "     print(\"그 물품은 없어요\")          \n"
      ],
      "metadata": {
        "colab": {
          "base_uri": "https://localhost:8080/",
          "height": 137
        },
        "id": "Qujm0gTuG8tM",
        "outputId": "58946112-f3cc-4263-8bf9-4e31a03e40d9"
      },
      "execution_count": 7,
      "outputs": [
        {
          "output_type": "error",
          "ename": "IndentationError",
          "evalue": "ignored",
          "traceback": [
            "\u001b[0;36m  File \u001b[0;32m\"<tokenize>\"\u001b[0;36m, line \u001b[0;32m8\u001b[0m\n\u001b[0;31m    store[item] = count\u001b[0m\n\u001b[0m    ^\u001b[0m\n\u001b[0;31mIndentationError\u001b[0m\u001b[0;31m:\u001b[0m unindent does not match any outer indentation level\n"
          ]
        }
      ]
    },
    {
      "cell_type": "code",
      "source": [
        "from textwrap import shorten\n",
        "#!pip3 install ColabTurtle\n",
        "import ColabTurtle.Turtle as turtle\n",
        "import random\n",
        "myT = []\n",
        "shapeList = [\"circle\",\"turtle\"]\n",
        "colorList = [\"red\",\"blue\",\"yellow\",\"black\",\"green\"]\n",
        "turtle.initializeTurtle()\n",
        "for i in range(0,100) :\n",
        "  color = random.choice(colorList)\n",
        "  shap = random.choice(shapeList)\n",
        "  x = random.randint(0,750)\n",
        "  y = random.randint(0,550)\n",
        "  myturtle = turtle.turtle_shape = shap\n",
        "  tup = (myturtle, color, x, y)\n",
        "  myT.append(tup)\n",
        "\n",
        "for t in myT:\n",
        "  turtle.color(t[1])\n",
        "  turtle.goto(t[2], t[3])\n",
        "  turtle.home()  "
      ],
      "metadata": {
        "colab": {
          "base_uri": "https://localhost:8080/",
          "height": 520
        },
        "id": "rtW2mk5kIZ3z",
        "outputId": "5762e9bb-0d0d-4262-a3bb-7e4570d91e0a"
      },
      "execution_count": 12,
      "outputs": [
        {
          "output_type": "display_data",
          "data": {
            "text/plain": [
              "<IPython.core.display.HTML object>"
            ],
            "text/html": [
              "\n",
              "      <svg width=\"800\" height=\"500\">\n",
              "        <rect width=\"100%\" height=\"100%\" fill=\"black\"/>\n",
              "        <line x1=\"400\" y1=\"250\" x2=\"253\" y2=\"538\" stroke-linecap=\"round\" style=\"stroke:black;stroke-width:4\"/><line x1=\"253\" y1=\"538\" x2=\"400\" y2=\"250\" stroke-linecap=\"round\" style=\"stroke:black;stroke-width:4\"/><line x1=\"400\" y1=\"250\" x2=\"492\" y2=\"327\" stroke-linecap=\"round\" style=\"stroke:red;stroke-width:4\"/><line x1=\"492\" y1=\"327\" x2=\"400\" y2=\"250\" stroke-linecap=\"round\" style=\"stroke:red;stroke-width:4\"/><line x1=\"400\" y1=\"250\" x2=\"243\" y2=\"477\" stroke-linecap=\"round\" style=\"stroke:red;stroke-width:4\"/><line x1=\"243\" y1=\"477\" x2=\"400\" y2=\"250\" stroke-linecap=\"round\" style=\"stroke:red;stroke-width:4\"/><line x1=\"400\" y1=\"250\" x2=\"446\" y2=\"176\" stroke-linecap=\"round\" style=\"stroke:yellow;stroke-width:4\"/><line x1=\"446\" y1=\"176\" x2=\"400\" y2=\"250\" stroke-linecap=\"round\" style=\"stroke:yellow;stroke-width:4\"/><line x1=\"400\" y1=\"250\" x2=\"579\" y2=\"141\" stroke-linecap=\"round\" style=\"stroke:yellow;stroke-width:4\"/><line x1=\"579\" y1=\"141\" x2=\"400\" y2=\"250\" stroke-linecap=\"round\" style=\"stroke:yellow;stroke-width:4\"/><line x1=\"400\" y1=\"250\" x2=\"544\" y2=\"427\" stroke-linecap=\"round\" style=\"stroke:yellow;stroke-width:4\"/><line x1=\"544\" y1=\"427\" x2=\"400\" y2=\"250\" stroke-linecap=\"round\" style=\"stroke:yellow;stroke-width:4\"/><line x1=\"400\" y1=\"250\" x2=\"610\" y2=\"210\" stroke-linecap=\"round\" style=\"stroke:green;stroke-width:4\"/><line x1=\"610\" y1=\"210\" x2=\"400\" y2=\"250\" stroke-linecap=\"round\" style=\"stroke:green;stroke-width:4\"/><line x1=\"400\" y1=\"250\" x2=\"216\" y2=\"433\" stroke-linecap=\"round\" style=\"stroke:black;stroke-width:4\"/><line x1=\"216\" y1=\"433\" x2=\"400\" y2=\"250\" stroke-linecap=\"round\" style=\"stroke:black;stroke-width:4\"/><line x1=\"400\" y1=\"250\" x2=\"726\" y2=\"185\" stroke-linecap=\"round\" style=\"stroke:red;stroke-width:4\"/><line x1=\"726\" y1=\"185\" x2=\"400\" y2=\"250\" stroke-linecap=\"round\" style=\"stroke:red;stroke-width:4\"/><line x1=\"400\" y1=\"250\" x2=\"244\" y2=\"57\" stroke-linecap=\"round\" style=\"stroke:yellow;stroke-width:4\"/><line x1=\"244\" y1=\"57\" x2=\"400\" y2=\"250\" stroke-linecap=\"round\" style=\"stroke:yellow;stroke-width:4\"/><line x1=\"400\" y1=\"250\" x2=\"203\" y2=\"364\" stroke-linecap=\"round\" style=\"stroke:red;stroke-width:4\"/><line x1=\"203\" y1=\"364\" x2=\"400\" y2=\"250\" stroke-linecap=\"round\" style=\"stroke:red;stroke-width:4\"/><line x1=\"400\" y1=\"250\" x2=\"679\" y2=\"225\" stroke-linecap=\"round\" style=\"stroke:green;stroke-width:4\"/><line x1=\"679\" y1=\"225\" x2=\"400\" y2=\"250\" stroke-linecap=\"round\" style=\"stroke:green;stroke-width:4\"/><line x1=\"400\" y1=\"250\" x2=\"487\" y2=\"333\" stroke-linecap=\"round\" style=\"stroke:red;stroke-width:4\"/><line x1=\"487\" y1=\"333\" x2=\"400\" y2=\"250\" stroke-linecap=\"round\" style=\"stroke:red;stroke-width:4\"/><line x1=\"400\" y1=\"250\" x2=\"622\" y2=\"342\" stroke-linecap=\"round\" style=\"stroke:yellow;stroke-width:4\"/><line x1=\"622\" y1=\"342\" x2=\"400\" y2=\"250\" stroke-linecap=\"round\" style=\"stroke:yellow;stroke-width:4\"/><line x1=\"400\" y1=\"250\" x2=\"193\" y2=\"485\" stroke-linecap=\"round\" style=\"stroke:blue;stroke-width:4\"/><line x1=\"193\" y1=\"485\" x2=\"400\" y2=\"250\" stroke-linecap=\"round\" style=\"stroke:blue;stroke-width:4\"/><line x1=\"400\" y1=\"250\" x2=\"511\" y2=\"486\" stroke-linecap=\"round\" style=\"stroke:yellow;stroke-width:4\"/><line x1=\"511\" y1=\"486\" x2=\"400\" y2=\"250\" stroke-linecap=\"round\" style=\"stroke:yellow;stroke-width:4\"/><line x1=\"400\" y1=\"250\" x2=\"197\" y2=\"225\" stroke-linecap=\"round\" style=\"stroke:green;stroke-width:4\"/><line x1=\"197\" y1=\"225\" x2=\"400\" y2=\"250\" stroke-linecap=\"round\" style=\"stroke:green;stroke-width:4\"/><line x1=\"400\" y1=\"250\" x2=\"567\" y2=\"421\" stroke-linecap=\"round\" style=\"stroke:green;stroke-width:4\"/><line x1=\"567\" y1=\"421\" x2=\"400\" y2=\"250\" stroke-linecap=\"round\" style=\"stroke:green;stroke-width:4\"/><line x1=\"400\" y1=\"250\" x2=\"35\" y2=\"259\" stroke-linecap=\"round\" style=\"stroke:yellow;stroke-width:4\"/><line x1=\"35\" y1=\"259\" x2=\"400\" y2=\"250\" stroke-linecap=\"round\" style=\"stroke:yellow;stroke-width:4\"/><line x1=\"400\" y1=\"250\" x2=\"558\" y2=\"515\" stroke-linecap=\"round\" style=\"stroke:black;stroke-width:4\"/><line x1=\"558\" y1=\"515\" x2=\"400\" y2=\"250\" stroke-linecap=\"round\" style=\"stroke:black;stroke-width:4\"/><line x1=\"400\" y1=\"250\" x2=\"577\" y2=\"476\" stroke-linecap=\"round\" style=\"stroke:blue;stroke-width:4\"/><line x1=\"577\" y1=\"476\" x2=\"400\" y2=\"250\" stroke-linecap=\"round\" style=\"stroke:blue;stroke-width:4\"/><line x1=\"400\" y1=\"250\" x2=\"219\" y2=\"77\" stroke-linecap=\"round\" style=\"stroke:red;stroke-width:4\"/><line x1=\"219\" y1=\"77\" x2=\"400\" y2=\"250\" stroke-linecap=\"round\" style=\"stroke:red;stroke-width:4\"/><line x1=\"400\" y1=\"250\" x2=\"219\" y2=\"544\" stroke-linecap=\"round\" style=\"stroke:black;stroke-width:4\"/><line x1=\"219\" y1=\"544\" x2=\"400\" y2=\"250\" stroke-linecap=\"round\" style=\"stroke:black;stroke-width:4\"/><line x1=\"400\" y1=\"250\" x2=\"433\" y2=\"266\" stroke-linecap=\"round\" style=\"stroke:green;stroke-width:4\"/><line x1=\"433\" y1=\"266\" x2=\"400\" y2=\"250\" stroke-linecap=\"round\" style=\"stroke:green;stroke-width:4\"/><line x1=\"400\" y1=\"250\" x2=\"399\" y2=\"277\" stroke-linecap=\"round\" style=\"stroke:yellow;stroke-width:4\"/><line x1=\"399\" y1=\"277\" x2=\"400\" y2=\"250\" stroke-linecap=\"round\" style=\"stroke:yellow;stroke-width:4\"/><line x1=\"400\" y1=\"250\" x2=\"39\" y2=\"473\" stroke-linecap=\"round\" style=\"stroke:black;stroke-width:4\"/><line x1=\"39\" y1=\"473\" x2=\"400\" y2=\"250\" stroke-linecap=\"round\" style=\"stroke:black;stroke-width:4\"/><line x1=\"400\" y1=\"250\" x2=\"527\" y2=\"8\" stroke-linecap=\"round\" style=\"stroke:red;stroke-width:4\"/><line x1=\"527\" y1=\"8\" x2=\"400\" y2=\"250\" stroke-linecap=\"round\" style=\"stroke:red;stroke-width:4\"/><line x1=\"400\" y1=\"250\" x2=\"273\" y2=\"154\" stroke-linecap=\"round\" style=\"stroke:black;stroke-width:4\"/><line x1=\"273\" y1=\"154\" x2=\"400\" y2=\"250\" stroke-linecap=\"round\" style=\"stroke:black;stroke-width:4\"/><line x1=\"400\" y1=\"250\" x2=\"661\" y2=\"173\" stroke-linecap=\"round\" style=\"stroke:yellow;stroke-width:4\"/><line x1=\"661\" y1=\"173\" x2=\"400\" y2=\"250\" stroke-linecap=\"round\" style=\"stroke:yellow;stroke-width:4\"/><line x1=\"400\" y1=\"250\" x2=\"558\" y2=\"352\" stroke-linecap=\"round\" style=\"stroke:red;stroke-width:4\"/><line x1=\"558\" y1=\"352\" x2=\"400\" y2=\"250\" stroke-linecap=\"round\" style=\"stroke:red;stroke-width:4\"/><line x1=\"400\" y1=\"250\" x2=\"0\" y2=\"519\" stroke-linecap=\"round\" style=\"stroke:blue;stroke-width:4\"/><line x1=\"0\" y1=\"519\" x2=\"400\" y2=\"250\" stroke-linecap=\"round\" style=\"stroke:blue;stroke-width:4\"/><line x1=\"400\" y1=\"250\" x2=\"706\" y2=\"253\" stroke-linecap=\"round\" style=\"stroke:red;stroke-width:4\"/><line x1=\"706\" y1=\"253\" x2=\"400\" y2=\"250\" stroke-linecap=\"round\" style=\"stroke:red;stroke-width:4\"/><line x1=\"400\" y1=\"250\" x2=\"362\" y2=\"316\" stroke-linecap=\"round\" style=\"stroke:red;stroke-width:4\"/><line x1=\"362\" y1=\"316\" x2=\"400\" y2=\"250\" stroke-linecap=\"round\" style=\"stroke:red;stroke-width:4\"/><line x1=\"400\" y1=\"250\" x2=\"173\" y2=\"470\" stroke-linecap=\"round\" style=\"stroke:black;stroke-width:4\"/><line x1=\"173\" y1=\"470\" x2=\"400\" y2=\"250\" stroke-linecap=\"round\" style=\"stroke:black;stroke-width:4\"/><line x1=\"400\" y1=\"250\" x2=\"747\" y2=\"186\" stroke-linecap=\"round\" style=\"stroke:blue;stroke-width:4\"/><line x1=\"747\" y1=\"186\" x2=\"400\" y2=\"250\" stroke-linecap=\"round\" style=\"stroke:blue;stroke-width:4\"/><line x1=\"400\" y1=\"250\" x2=\"673\" y2=\"199\" stroke-linecap=\"round\" style=\"stroke:blue;stroke-width:4\"/><line x1=\"673\" y1=\"199\" x2=\"400\" y2=\"250\" stroke-linecap=\"round\" style=\"stroke:blue;stroke-width:4\"/><line x1=\"400\" y1=\"250\" x2=\"704\" y2=\"277\" stroke-linecap=\"round\" style=\"stroke:yellow;stroke-width:4\"/><line x1=\"704\" y1=\"277\" x2=\"400\" y2=\"250\" stroke-linecap=\"round\" style=\"stroke:yellow;stroke-width:4\"/><line x1=\"400\" y1=\"250\" x2=\"604\" y2=\"56\" stroke-linecap=\"round\" style=\"stroke:red;stroke-width:4\"/><line x1=\"604\" y1=\"56\" x2=\"400\" y2=\"250\" stroke-linecap=\"round\" style=\"stroke:red;stroke-width:4\"/><line x1=\"400\" y1=\"250\" x2=\"213\" y2=\"147\" stroke-linecap=\"round\" style=\"stroke:yellow;stroke-width:4\"/><line x1=\"213\" y1=\"147\" x2=\"400\" y2=\"250\" stroke-linecap=\"round\" style=\"stroke:yellow;stroke-width:4\"/><line x1=\"400\" y1=\"250\" x2=\"110\" y2=\"23\" stroke-linecap=\"round\" style=\"stroke:red;stroke-width:4\"/><line x1=\"110\" y1=\"23\" x2=\"400\" y2=\"250\" stroke-linecap=\"round\" style=\"stroke:red;stroke-width:4\"/><line x1=\"400\" y1=\"250\" x2=\"303\" y2=\"213\" stroke-linecap=\"round\" style=\"stroke:yellow;stroke-width:4\"/><line x1=\"303\" y1=\"213\" x2=\"400\" y2=\"250\" stroke-linecap=\"round\" style=\"stroke:yellow;stroke-width:4\"/><line x1=\"400\" y1=\"250\" x2=\"327\" y2=\"302\" stroke-linecap=\"round\" style=\"stroke:red;stroke-width:4\"/><line x1=\"327\" y1=\"302\" x2=\"400\" y2=\"250\" stroke-linecap=\"round\" style=\"stroke:red;stroke-width:4\"/><line x1=\"400\" y1=\"250\" x2=\"243\" y2=\"16\" stroke-linecap=\"round\" style=\"stroke:yellow;stroke-width:4\"/><line x1=\"243\" y1=\"16\" x2=\"400\" y2=\"250\" stroke-linecap=\"round\" style=\"stroke:yellow;stroke-width:4\"/><line x1=\"400\" y1=\"250\" x2=\"306\" y2=\"202\" stroke-linecap=\"round\" style=\"stroke:yellow;stroke-width:4\"/><line x1=\"306\" y1=\"202\" x2=\"400\" y2=\"250\" stroke-linecap=\"round\" style=\"stroke:yellow;stroke-width:4\"/><line x1=\"400\" y1=\"250\" x2=\"307\" y2=\"119\" stroke-linecap=\"round\" style=\"stroke:blue;stroke-width:4\"/><line x1=\"307\" y1=\"119\" x2=\"400\" y2=\"250\" stroke-linecap=\"round\" style=\"stroke:blue;stroke-width:4\"/><line x1=\"400\" y1=\"250\" x2=\"569\" y2=\"154\" stroke-linecap=\"round\" style=\"stroke:black;stroke-width:4\"/><line x1=\"569\" y1=\"154\" x2=\"400\" y2=\"250\" stroke-linecap=\"round\" style=\"stroke:black;stroke-width:4\"/><line x1=\"400\" y1=\"250\" x2=\"222\" y2=\"297\" stroke-linecap=\"round\" style=\"stroke:black;stroke-width:4\"/><line x1=\"222\" y1=\"297\" x2=\"400\" y2=\"250\" stroke-linecap=\"round\" style=\"stroke:black;stroke-width:4\"/><line x1=\"400\" y1=\"250\" x2=\"160\" y2=\"29\" stroke-linecap=\"round\" style=\"stroke:red;stroke-width:4\"/><line x1=\"160\" y1=\"29\" x2=\"400\" y2=\"250\" stroke-linecap=\"round\" style=\"stroke:red;stroke-width:4\"/><line x1=\"400\" y1=\"250\" x2=\"292\" y2=\"511\" stroke-linecap=\"round\" style=\"stroke:black;stroke-width:4\"/><line x1=\"292\" y1=\"511\" x2=\"400\" y2=\"250\" stroke-linecap=\"round\" style=\"stroke:black;stroke-width:4\"/><line x1=\"400\" y1=\"250\" x2=\"648\" y2=\"53\" stroke-linecap=\"round\" style=\"stroke:yellow;stroke-width:4\"/><line x1=\"648\" y1=\"53\" x2=\"400\" y2=\"250\" stroke-linecap=\"round\" style=\"stroke:yellow;stroke-width:4\"/><line x1=\"400\" y1=\"250\" x2=\"584\" y2=\"223\" stroke-linecap=\"round\" style=\"stroke:blue;stroke-width:4\"/><line x1=\"584\" y1=\"223\" x2=\"400\" y2=\"250\" stroke-linecap=\"round\" style=\"stroke:blue;stroke-width:4\"/><line x1=\"400\" y1=\"250\" x2=\"342\" y2=\"84\" stroke-linecap=\"round\" style=\"stroke:green;stroke-width:4\"/><line x1=\"342\" y1=\"84\" x2=\"400\" y2=\"250\" stroke-linecap=\"round\" style=\"stroke:green;stroke-width:4\"/><line x1=\"400\" y1=\"250\" x2=\"210\" y2=\"177\" stroke-linecap=\"round\" style=\"stroke:green;stroke-width:4\"/><line x1=\"210\" y1=\"177\" x2=\"400\" y2=\"250\" stroke-linecap=\"round\" style=\"stroke:green;stroke-width:4\"/><line x1=\"400\" y1=\"250\" x2=\"254\" y2=\"81\" stroke-linecap=\"round\" style=\"stroke:black;stroke-width:4\"/><line x1=\"254\" y1=\"81\" x2=\"400\" y2=\"250\" stroke-linecap=\"round\" style=\"stroke:black;stroke-width:4\"/><line x1=\"400\" y1=\"250\" x2=\"238\" y2=\"455\" stroke-linecap=\"round\" style=\"stroke:yellow;stroke-width:4\"/><line x1=\"238\" y1=\"455\" x2=\"400\" y2=\"250\" stroke-linecap=\"round\" style=\"stroke:yellow;stroke-width:4\"/><line x1=\"400\" y1=\"250\" x2=\"661\" y2=\"156\" stroke-linecap=\"round\" style=\"stroke:green;stroke-width:4\"/><line x1=\"661\" y1=\"156\" x2=\"400\" y2=\"250\" stroke-linecap=\"round\" style=\"stroke:green;stroke-width:4\"/><line x1=\"400\" y1=\"250\" x2=\"222\" y2=\"446\" stroke-linecap=\"round\" style=\"stroke:green;stroke-width:4\"/><line x1=\"222\" y1=\"446\" x2=\"400\" y2=\"250\" stroke-linecap=\"round\" style=\"stroke:green;stroke-width:4\"/><line x1=\"400\" y1=\"250\" x2=\"455\" y2=\"65\" stroke-linecap=\"round\" style=\"stroke:blue;stroke-width:4\"/><line x1=\"455\" y1=\"65\" x2=\"400\" y2=\"250\" stroke-linecap=\"round\" style=\"stroke:blue;stroke-width:4\"/><line x1=\"400\" y1=\"250\" x2=\"12\" y2=\"366\" stroke-linecap=\"round\" style=\"stroke:blue;stroke-width:4\"/><line x1=\"12\" y1=\"366\" x2=\"400\" y2=\"250\" stroke-linecap=\"round\" style=\"stroke:blue;stroke-width:4\"/><line x1=\"400\" y1=\"250\" x2=\"685\" y2=\"438\" stroke-linecap=\"round\" style=\"stroke:green;stroke-width:4\"/><line x1=\"685\" y1=\"438\" x2=\"400\" y2=\"250\" stroke-linecap=\"round\" style=\"stroke:green;stroke-width:4\"/><line x1=\"400\" y1=\"250\" x2=\"477\" y2=\"442\" stroke-linecap=\"round\" style=\"stroke:red;stroke-width:4\"/><line x1=\"477\" y1=\"442\" x2=\"400\" y2=\"250\" stroke-linecap=\"round\" style=\"stroke:red;stroke-width:4\"/><line x1=\"400\" y1=\"250\" x2=\"160\" y2=\"181\" stroke-linecap=\"round\" style=\"stroke:blue;stroke-width:4\"/><line x1=\"160\" y1=\"181\" x2=\"400\" y2=\"250\" stroke-linecap=\"round\" style=\"stroke:blue;stroke-width:4\"/><line x1=\"400\" y1=\"250\" x2=\"133\" y2=\"117\" stroke-linecap=\"round\" style=\"stroke:yellow;stroke-width:4\"/><line x1=\"133\" y1=\"117\" x2=\"400\" y2=\"250\" stroke-linecap=\"round\" style=\"stroke:yellow;stroke-width:4\"/><line x1=\"400\" y1=\"250\" x2=\"208\" y2=\"349\" stroke-linecap=\"round\" style=\"stroke:yellow;stroke-width:4\"/><line x1=\"208\" y1=\"349\" x2=\"400\" y2=\"250\" stroke-linecap=\"round\" style=\"stroke:yellow;stroke-width:4\"/><line x1=\"400\" y1=\"250\" x2=\"600\" y2=\"334\" stroke-linecap=\"round\" style=\"stroke:blue;stroke-width:4\"/><line x1=\"600\" y1=\"334\" x2=\"400\" y2=\"250\" stroke-linecap=\"round\" style=\"stroke:blue;stroke-width:4\"/><line x1=\"400\" y1=\"250\" x2=\"303\" y2=\"9\" stroke-linecap=\"round\" style=\"stroke:blue;stroke-width:4\"/><line x1=\"303\" y1=\"9\" x2=\"400\" y2=\"250\" stroke-linecap=\"round\" style=\"stroke:blue;stroke-width:4\"/><line x1=\"400\" y1=\"250\" x2=\"43\" y2=\"302\" stroke-linecap=\"round\" style=\"stroke:black;stroke-width:4\"/><line x1=\"43\" y1=\"302\" x2=\"400\" y2=\"250\" stroke-linecap=\"round\" style=\"stroke:black;stroke-width:4\"/><line x1=\"400\" y1=\"250\" x2=\"525\" y2=\"387\" stroke-linecap=\"round\" style=\"stroke:black;stroke-width:4\"/><line x1=\"525\" y1=\"387\" x2=\"400\" y2=\"250\" stroke-linecap=\"round\" style=\"stroke:black;stroke-width:4\"/><line x1=\"400\" y1=\"250\" x2=\"46\" y2=\"442\" stroke-linecap=\"round\" style=\"stroke:red;stroke-width:4\"/><line x1=\"46\" y1=\"442\" x2=\"400\" y2=\"250\" stroke-linecap=\"round\" style=\"stroke:red;stroke-width:4\"/><line x1=\"400\" y1=\"250\" x2=\"698\" y2=\"336\" stroke-linecap=\"round\" style=\"stroke:yellow;stroke-width:4\"/><line x1=\"698\" y1=\"336\" x2=\"400\" y2=\"250\" stroke-linecap=\"round\" style=\"stroke:yellow;stroke-width:4\"/><line x1=\"400\" y1=\"250\" x2=\"66\" y2=\"517\" stroke-linecap=\"round\" style=\"stroke:red;stroke-width:4\"/><line x1=\"66\" y1=\"517\" x2=\"400\" y2=\"250\" stroke-linecap=\"round\" style=\"stroke:red;stroke-width:4\"/><line x1=\"400\" y1=\"250\" x2=\"209\" y2=\"188\" stroke-linecap=\"round\" style=\"stroke:yellow;stroke-width:4\"/><line x1=\"209\" y1=\"188\" x2=\"400\" y2=\"250\" stroke-linecap=\"round\" style=\"stroke:yellow;stroke-width:4\"/><line x1=\"400\" y1=\"250\" x2=\"403\" y2=\"224\" stroke-linecap=\"round\" style=\"stroke:red;stroke-width:4\"/><line x1=\"403\" y1=\"224\" x2=\"400\" y2=\"250\" stroke-linecap=\"round\" style=\"stroke:red;stroke-width:4\"/><line x1=\"400\" y1=\"250\" x2=\"171\" y2=\"252\" stroke-linecap=\"round\" style=\"stroke:red;stroke-width:4\"/><line x1=\"171\" y1=\"252\" x2=\"400\" y2=\"250\" stroke-linecap=\"round\" style=\"stroke:red;stroke-width:4\"/><line x1=\"400\" y1=\"250\" x2=\"695\" y2=\"88\" stroke-linecap=\"round\" style=\"stroke:green;stroke-width:4\"/><line x1=\"695\" y1=\"88\" x2=\"400\" y2=\"250\" stroke-linecap=\"round\" style=\"stroke:green;stroke-width:4\"/><line x1=\"400\" y1=\"250\" x2=\"386\" y2=\"169\" stroke-linecap=\"round\" style=\"stroke:yellow;stroke-width:4\"/><line x1=\"386\" y1=\"169\" x2=\"400\" y2=\"250\" stroke-linecap=\"round\" style=\"stroke:yellow;stroke-width:4\"/><line x1=\"400\" y1=\"250\" x2=\"185\" y2=\"19\" stroke-linecap=\"round\" style=\"stroke:blue;stroke-width:4\"/><line x1=\"185\" y1=\"19\" x2=\"400\" y2=\"250\" stroke-linecap=\"round\" style=\"stroke:blue;stroke-width:4\"/><line x1=\"400\" y1=\"250\" x2=\"373\" y2=\"122\" stroke-linecap=\"round\" style=\"stroke:blue;stroke-width:4\"/><line x1=\"373\" y1=\"122\" x2=\"400\" y2=\"250\" stroke-linecap=\"round\" style=\"stroke:blue;stroke-width:4\"/><line x1=\"400\" y1=\"250\" x2=\"331\" y2=\"40\" stroke-linecap=\"round\" style=\"stroke:red;stroke-width:4\"/><line x1=\"331\" y1=\"40\" x2=\"400\" y2=\"250\" stroke-linecap=\"round\" style=\"stroke:red;stroke-width:4\"/><line x1=\"400\" y1=\"250\" x2=\"299\" y2=\"271\" stroke-linecap=\"round\" style=\"stroke:black;stroke-width:4\"/><line x1=\"299\" y1=\"271\" x2=\"400\" y2=\"250\" stroke-linecap=\"round\" style=\"stroke:black;stroke-width:4\"/><line x1=\"400\" y1=\"250\" x2=\"428\" y2=\"0\" stroke-linecap=\"round\" style=\"stroke:blue;stroke-width:4\"/><line x1=\"428\" y1=\"0\" x2=\"400\" y2=\"250\" stroke-linecap=\"round\" style=\"stroke:blue;stroke-width:4\"/><line x1=\"400\" y1=\"250\" x2=\"197\" y2=\"490\" stroke-linecap=\"round\" style=\"stroke:blue;stroke-width:4\"/><line x1=\"197\" y1=\"490\" x2=\"400\" y2=\"250\" stroke-linecap=\"round\" style=\"stroke:blue;stroke-width:4\"/><line x1=\"400\" y1=\"250\" x2=\"725\" y2=\"77\" stroke-linecap=\"round\" style=\"stroke:black;stroke-width:4\"/><line x1=\"725\" y1=\"77\" x2=\"400\" y2=\"250\" stroke-linecap=\"round\" style=\"stroke:black;stroke-width:4\"/><line x1=\"400\" y1=\"250\" x2=\"498\" y2=\"541\" stroke-linecap=\"round\" style=\"stroke:yellow;stroke-width:4\"/><line x1=\"498\" y1=\"541\" x2=\"400\" y2=\"250\" stroke-linecap=\"round\" style=\"stroke:yellow;stroke-width:4\"/><line x1=\"400\" y1=\"250\" x2=\"698\" y2=\"500\" stroke-linecap=\"round\" style=\"stroke:black;stroke-width:4\"/><line x1=\"698\" y1=\"500\" x2=\"400\" y2=\"250\" stroke-linecap=\"round\" style=\"stroke:black;stroke-width:4\"/><line x1=\"400\" y1=\"250\" x2=\"429\" y2=\"155\" stroke-linecap=\"round\" style=\"stroke:green;stroke-width:4\"/><line x1=\"429\" y1=\"155\" x2=\"400\" y2=\"250\" stroke-linecap=\"round\" style=\"stroke:green;stroke-width:4\"/><line x1=\"400\" y1=\"250\" x2=\"59\" y2=\"72\" stroke-linecap=\"round\" style=\"stroke:yellow;stroke-width:4\"/><line x1=\"59\" y1=\"72\" x2=\"400\" y2=\"250\" stroke-linecap=\"round\" style=\"stroke:yellow;stroke-width:4\"/><line x1=\"400\" y1=\"250\" x2=\"385\" y2=\"88\" stroke-linecap=\"round\" style=\"stroke:blue;stroke-width:4\"/><line x1=\"385\" y1=\"88\" x2=\"400\" y2=\"250\" stroke-linecap=\"round\" style=\"stroke:blue;stroke-width:4\"/><line x1=\"400\" y1=\"250\" x2=\"673\" y2=\"473\" stroke-linecap=\"round\" style=\"stroke:black;stroke-width:4\"/><line x1=\"673\" y1=\"473\" x2=\"400\" y2=\"250\" stroke-linecap=\"round\" style=\"stroke:black;stroke-width:4\"/><line x1=\"400\" y1=\"250\" x2=\"451\" y2=\"496\" stroke-linecap=\"round\" style=\"stroke:blue;stroke-width:4\"/><line x1=\"451\" y1=\"496\" x2=\"400\" y2=\"250\" stroke-linecap=\"round\" style=\"stroke:blue;stroke-width:4\"/><line x1=\"400\" y1=\"250\" x2=\"215\" y2=\"311\" stroke-linecap=\"round\" style=\"stroke:red;stroke-width:4\"/><line x1=\"215\" y1=\"311\" x2=\"400\" y2=\"250\" stroke-linecap=\"round\" style=\"stroke:red;stroke-width:4\"/><line x1=\"400\" y1=\"250\" x2=\"194\" y2=\"456\" stroke-linecap=\"round\" style=\"stroke:green;stroke-width:4\"/><line x1=\"194\" y1=\"456\" x2=\"400\" y2=\"250\" stroke-linecap=\"round\" style=\"stroke:green;stroke-width:4\"/><line x1=\"400\" y1=\"250\" x2=\"677\" y2=\"484\" stroke-linecap=\"round\" style=\"stroke:yellow;stroke-width:4\"/><line x1=\"677\" y1=\"484\" x2=\"400\" y2=\"250\" stroke-linecap=\"round\" style=\"stroke:yellow;stroke-width:4\"/><line x1=\"400\" y1=\"250\" x2=\"619\" y2=\"45\" stroke-linecap=\"round\" style=\"stroke:red;stroke-width:4\"/><line x1=\"619\" y1=\"45\" x2=\"400\" y2=\"250\" stroke-linecap=\"round\" style=\"stroke:red;stroke-width:4\"/><line x1=\"400\" y1=\"250\" x2=\"138\" y2=\"470\" stroke-linecap=\"round\" style=\"stroke:blue;stroke-width:4\"/><line x1=\"138\" y1=\"470\" x2=\"400\" y2=\"250\" stroke-linecap=\"round\" style=\"stroke:blue;stroke-width:4\"/><line x1=\"400\" y1=\"250\" x2=\"174\" y2=\"27\" stroke-linecap=\"round\" style=\"stroke:red;stroke-width:4\"/><line x1=\"174\" y1=\"27\" x2=\"400\" y2=\"250\" stroke-linecap=\"round\" style=\"stroke:red;stroke-width:4\"/><line x1=\"400\" y1=\"250\" x2=\"712\" y2=\"393\" stroke-linecap=\"round\" style=\"stroke:yellow;stroke-width:4\"/><line x1=\"712\" y1=\"393\" x2=\"400\" y2=\"250\" stroke-linecap=\"round\" style=\"stroke:yellow;stroke-width:4\"/><line x1=\"400\" y1=\"250\" x2=\"283\" y2=\"359\" stroke-linecap=\"round\" style=\"stroke:yellow;stroke-width:4\"/><line x1=\"283\" y1=\"359\" x2=\"400\" y2=\"250\" stroke-linecap=\"round\" style=\"stroke:yellow;stroke-width:4\"/><line x1=\"400\" y1=\"250\" x2=\"728\" y2=\"321\" stroke-linecap=\"round\" style=\"stroke:blue;stroke-width:4\"/><line x1=\"728\" y1=\"321\" x2=\"400\" y2=\"250\" stroke-linecap=\"round\" style=\"stroke:blue;stroke-width:4\"/><line x1=\"400\" y1=\"250\" x2=\"23\" y2=\"332\" stroke-linecap=\"round\" style=\"stroke:black;stroke-width:4\"/><line x1=\"23\" y1=\"332\" x2=\"400\" y2=\"250\" stroke-linecap=\"round\" style=\"stroke:black;stroke-width:4\"/>\n",
              "        <g visibility=visible transform=\"rotate(360,400,250) translate(382, 232)\">\n",
              "<path style=\" stroke:none;fill-rule:evenodd;fill:black;fill-opacity:1;\" d=\"M 18.214844 0.632812 C 16.109375 1.800781 15.011719 4.074219 15.074219 7.132812 L 15.085938 7.652344 L 14.785156 7.496094 C 13.476562 6.824219 11.957031 6.671875 10.40625 7.066406 C 8.46875 7.550781 6.515625 9.15625 4.394531 11.992188 C 3.0625 13.777344 2.679688 14.636719 3.042969 15.027344 L 3.15625 15.152344 L 3.519531 15.152344 C 4.238281 15.152344 4.828125 14.886719 8.1875 13.039062 C 9.386719 12.378906 10.371094 11.839844 10.378906 11.839844 C 10.386719 11.839844 10.355469 11.929688 10.304688 12.035156 C 9.832031 13.09375 9.257812 14.820312 8.96875 16.078125 C 7.914062 20.652344 8.617188 24.53125 11.070312 27.660156 C 11.351562 28.015625 11.363281 27.914062 10.972656 28.382812 C 8.925781 30.84375 7.945312 33.28125 8.238281 35.1875 C 8.289062 35.527344 8.28125 35.523438 8.917969 35.523438 C 10.941406 35.523438 13.074219 34.207031 15.136719 31.6875 C 15.359375 31.417969 15.328125 31.425781 15.5625 31.574219 C 16.292969 32.042969 18.023438 32.964844 18.175781 32.964844 C 18.335938 32.964844 19.941406 32.210938 20.828125 31.71875 C 20.996094 31.625 21.136719 31.554688 21.136719 31.558594 C 21.203125 31.664062 21.898438 32.414062 22.222656 32.730469 C 23.835938 34.300781 25.5625 35.132812 27.582031 35.300781 C 27.90625 35.328125 27.9375 35.308594 28.007812 34.984375 C 28.382812 33.242188 27.625 30.925781 25.863281 28.425781 L 25.542969 27.96875 L 25.699219 27.785156 C 28.945312 23.960938 29.132812 18.699219 26.257812 11.96875 L 26.207031 11.84375 L 27.945312 12.703125 C 31.53125 14.476562 32.316406 14.800781 33.03125 14.800781 C 33.976562 14.800781 33.78125 13.9375 32.472656 12.292969 C 28.519531 7.355469 25.394531 5.925781 21.921875 7.472656 L 21.558594 7.636719 L 21.578125 7.542969 C 21.699219 6.992188 21.761719 5.742188 21.699219 5.164062 C 21.496094 3.296875 20.664062 1.964844 19.003906 0.855469 C 18.480469 0.503906 18.457031 0.5 18.214844 0.632812\"/>\n",
              "</g>\n",
              "      </svg>\n",
              "    "
            ]
          },
          "metadata": {}
        }
      ]
    },
    {
      "cell_type": "code",
      "source": [],
      "metadata": {
        "id": "cZloHcbsWfzB"
      },
      "execution_count": null,
      "outputs": []
    }
  ]
}