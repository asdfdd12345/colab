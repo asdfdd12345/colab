{
  "nbformat": 4,
  "nbformat_minor": 0,
  "metadata": {
    "colab": {
      "provenance": [],
      "authorship_tag": "ABX9TyNoN4VLP/p7otuRlhVL7XQJ",
      "include_colab_link": true
    },
    "kernelspec": {
      "name": "python3",
      "display_name": "Python 3"
    },
    "language_info": {
      "name": "python"
    }
  },
  "cells": [
    {
      "cell_type": "markdown",
      "metadata": {
        "id": "view-in-github",
        "colab_type": "text"
      },
      "source": [
        "<a href=\"https://colab.research.google.com/github/asdfdd12345/colab/blob/main/Lession6.ipynb\" target=\"_parent\"><img src=\"https://colab.research.google.com/assets/colab-badge.svg\" alt=\"Open In Colab\"/></a>"
      ]
    },
    {
      "cell_type": "markdown",
      "source": [
        "6장 예제"
      ],
      "metadata": {
        "id": "5Y4ReNiLvCfK"
      }
    },
    {
      "cell_type": "code",
      "execution_count": null,
      "metadata": {
        "colab": {
          "base_uri": "https://localhost:8080/"
        },
        "id": "6N-OgQjFuyo0",
        "outputId": "817566c9-39c5-4487-eca7-81c4cf64e1e7"
      },
      "outputs": [
        {
          "output_type": "stream",
          "name": "stdout",
          "text": [
            "난생처음 파이썬은 재미있습니다. ^^\n",
            "난생처음 파이썬은 재미있습니다. ^^\n",
            "난생처음 파이썬은 재미있습니다. ^^\n"
          ]
        }
      ],
      "source": [
        "for i in range(3) :\n",
        "  print(\"난생처음 파이썬은 재미있습니다. ^^\")"
      ]
    },
    {
      "cell_type": "code",
      "source": [
        "myList = [\"짜장면\", \"김밥\", \"라면\"]\n",
        "for i in myList:\n",
        "  print(i)"
      ],
      "metadata": {
        "colab": {
          "base_uri": "https://localhost:8080/"
        },
        "id": "0ZCuVHJPwUxq",
        "outputId": "a2359b0a-74c6-486d-b3d4-b74b1c6fc382"
      },
      "execution_count": null,
      "outputs": [
        {
          "output_type": "stream",
          "name": "stdout",
          "text": [
            "짜장면\n",
            "김밥\n",
            "라면\n"
          ]
        }
      ]
    },
    {
      "cell_type": "code",
      "source": [
        "for i in range(2, 8, 2):\n",
        "   print(i)"
      ],
      "metadata": {
        "colab": {
          "base_uri": "https://localhost:8080/"
        },
        "id": "uNPOspY-v368",
        "outputId": "60fd1fd3-2844-4c6d-e3f9-5cc5e4329550"
      },
      "execution_count": null,
      "outputs": [
        {
          "output_type": "stream",
          "name": "stdout",
          "text": [
            "2\n",
            "4\n",
            "6\n"
          ]
        }
      ]
    },
    {
      "cell_type": "code",
      "source": [
        "sum = 0\n",
        "for i in range(1, 100, 2) :\n",
        "  sum = sum + i\n",
        "print(sum)  "
      ],
      "metadata": {
        "colab": {
          "base_uri": "https://localhost:8080/"
        },
        "id": "NeaQUAcAxAda",
        "outputId": "acd394f7-8481-4b7f-e8df-3ec470209eac"
      },
      "execution_count": null,
      "outputs": [
        {
          "output_type": "stream",
          "name": "stdout",
          "text": [
            "2500\n"
          ]
        }
      ]
    },
    {
      "cell_type": "code",
      "source": [
        "flag = 1\n",
        "sum = 0\n",
        "for i in range(1, 100,2 ):\n",
        "  if flag == 1 :\n",
        "    sum = sum + i\n",
        "    flag = flag * - 1\n",
        "  else:\n",
        "    sum = sum -i\n",
        "    flag = flag * - 1\n",
        "print(sum)      "
      ],
      "metadata": {
        "colab": {
          "base_uri": "https://localhost:8080/"
        },
        "id": "Nl2BhqIixs1i",
        "outputId": "9fe01ed4-9766-4b74-eaa6-e3c33f153ba5"
      },
      "execution_count": null,
      "outputs": [
        {
          "output_type": "stream",
          "name": "stdout",
          "text": [
            "-50\n"
          ]
        }
      ]
    },
    {
      "cell_type": "code",
      "source": [
        "fact = 1\n",
        "friends_num = 5\n",
        "\n",
        "for i in range(1, friends_num + 1, 1):\n",
        "  fact = fact + 1\n",
        "print(\"A,B,C,D,E 학생들을 순서대로 세우는 경우의 수 : \",fact)  "
      ],
      "metadata": {
        "colab": {
          "base_uri": "https://localhost:8080/"
        },
        "id": "bBGYcAwLvYZ7",
        "outputId": "e6504785-435d-4a0d-8317-e53372038a2a"
      },
      "execution_count": null,
      "outputs": [
        {
          "output_type": "stream",
          "name": "stdout",
          "text": [
            "A,B,C,D,E 학생들을 순서대로 세우는 경우의 수 :  6\n"
          ]
        }
      ]
    },
    {
      "cell_type": "code",
      "source": [
        "hap = 0\n",
        "\n",
        "for i in range(1, 11, 1):\n",
        "    hap = hap + i\n",
        "\n",
        "print(\"1에서 10까지의 합 : \", hap)\n"
      ],
      "metadata": {
        "colab": {
          "base_uri": "https://localhost:8080/"
        },
        "id": "8CBzq8Ia0uOw",
        "outputId": "2c8ff474-19e8-4034-b5c3-dfce03d44975"
      },
      "execution_count": null,
      "outputs": [
        {
          "output_type": "stream",
          "name": "stdout",
          "text": [
            "1에서 10까지의 합 :  55\n"
          ]
        }
      ]
    },
    {
      "cell_type": "code",
      "source": [
        "i, hap = 0, 0\n",
        "\n",
        "for i in range(1001, 2001, 2) :\n",
        "    hap += i\n",
        "\n",
        "print(\"1000에서 2000까지의 홀수의 합 :\", hap)    "
      ],
      "metadata": {
        "colab": {
          "base_uri": "https://localhost:8080/"
        },
        "id": "Eu_7oeeM17Fq",
        "outputId": "63d12518-4db6-451e-8f87-90a21591159d"
      },
      "execution_count": null,
      "outputs": [
        {
          "output_type": "stream",
          "name": "stdout",
          "text": [
            "1000에서 2000까지의 홀수의 합 : 750000\n"
          ]
        }
      ]
    },
    {
      "cell_type": "code",
      "source": [
        "for i in range (3) :\n",
        "    for k in range(2) :\n",
        "      print(\"난생처음은 쉽습니다. ^^ (i값:\", i,\",k값:\",k,\")\")\n",
        "    "
      ],
      "metadata": {
        "colab": {
          "base_uri": "https://localhost:8080/"
        },
        "id": "quJoZJxL2h0B",
        "outputId": "c1b7243b-3516-4084-f06a-37dd995d5ebb"
      },
      "execution_count": null,
      "outputs": [
        {
          "output_type": "stream",
          "name": "stdout",
          "text": [
            "난생처음은 쉽습니다. ^^ (i값: 0 ,k값: 0 )\n",
            "난생처음은 쉽습니다. ^^ (i값: 0 ,k값: 1 )\n",
            "난생처음은 쉽습니다. ^^ (i값: 1 ,k값: 0 )\n",
            "난생처음은 쉽습니다. ^^ (i값: 1 ,k값: 1 )\n",
            "난생처음은 쉽습니다. ^^ (i값: 2 ,k값: 0 )\n",
            "난생처음은 쉽습니다. ^^ (i값: 2 ,k값: 1 )\n"
          ]
        }
      ]
    },
    {
      "cell_type": "code",
      "source": [
        "for i in range(2,10):\n",
        " for j in range(1,10) :\n",
        "  print(i, \"X\", j, \"=\", i * j)\n",
        "  print(\"\")"
      ],
      "metadata": {
        "colab": {
          "base_uri": "https://localhost:8080/"
        },
        "id": "GAw5wXpp_NYC",
        "outputId": "50fa714e-dd8a-412d-bc82-1fc24a8ea551"
      },
      "execution_count": 1,
      "outputs": [
        {
          "output_type": "stream",
          "name": "stdout",
          "text": [
            "2 X 1 = 2\n",
            "\n",
            "2 X 2 = 4\n",
            "\n",
            "2 X 3 = 6\n",
            "\n",
            "2 X 4 = 8\n",
            "\n",
            "2 X 5 = 10\n",
            "\n",
            "2 X 6 = 12\n",
            "\n",
            "2 X 7 = 14\n",
            "\n",
            "2 X 8 = 16\n",
            "\n",
            "2 X 9 = 18\n",
            "\n",
            "3 X 1 = 3\n",
            "\n",
            "3 X 2 = 6\n",
            "\n",
            "3 X 3 = 9\n",
            "\n",
            "3 X 4 = 12\n",
            "\n",
            "3 X 5 = 15\n",
            "\n",
            "3 X 6 = 18\n",
            "\n",
            "3 X 7 = 21\n",
            "\n",
            "3 X 8 = 24\n",
            "\n",
            "3 X 9 = 27\n",
            "\n",
            "4 X 1 = 4\n",
            "\n",
            "4 X 2 = 8\n",
            "\n",
            "4 X 3 = 12\n",
            "\n",
            "4 X 4 = 16\n",
            "\n",
            "4 X 5 = 20\n",
            "\n",
            "4 X 6 = 24\n",
            "\n",
            "4 X 7 = 28\n",
            "\n",
            "4 X 8 = 32\n",
            "\n",
            "4 X 9 = 36\n",
            "\n",
            "5 X 1 = 5\n",
            "\n",
            "5 X 2 = 10\n",
            "\n",
            "5 X 3 = 15\n",
            "\n",
            "5 X 4 = 20\n",
            "\n",
            "5 X 5 = 25\n",
            "\n",
            "5 X 6 = 30\n",
            "\n",
            "5 X 7 = 35\n",
            "\n",
            "5 X 8 = 40\n",
            "\n",
            "5 X 9 = 45\n",
            "\n",
            "6 X 1 = 6\n",
            "\n",
            "6 X 2 = 12\n",
            "\n",
            "6 X 3 = 18\n",
            "\n",
            "6 X 4 = 24\n",
            "\n",
            "6 X 5 = 30\n",
            "\n",
            "6 X 6 = 36\n",
            "\n",
            "6 X 7 = 42\n",
            "\n",
            "6 X 8 = 48\n",
            "\n",
            "6 X 9 = 54\n",
            "\n",
            "7 X 1 = 7\n",
            "\n",
            "7 X 2 = 14\n",
            "\n",
            "7 X 3 = 21\n",
            "\n",
            "7 X 4 = 28\n",
            "\n",
            "7 X 5 = 35\n",
            "\n",
            "7 X 6 = 42\n",
            "\n",
            "7 X 7 = 49\n",
            "\n",
            "7 X 8 = 56\n",
            "\n",
            "7 X 9 = 63\n",
            "\n",
            "8 X 1 = 8\n",
            "\n",
            "8 X 2 = 16\n",
            "\n",
            "8 X 3 = 24\n",
            "\n",
            "8 X 4 = 32\n",
            "\n",
            "8 X 5 = 40\n",
            "\n",
            "8 X 6 = 48\n",
            "\n",
            "8 X 7 = 56\n",
            "\n",
            "8 X 8 = 64\n",
            "\n",
            "8 X 9 = 72\n",
            "\n",
            "9 X 1 = 9\n",
            "\n",
            "9 X 2 = 18\n",
            "\n",
            "9 X 3 = 27\n",
            "\n",
            "9 X 4 = 36\n",
            "\n",
            "9 X 5 = 45\n",
            "\n",
            "9 X 6 = 54\n",
            "\n",
            "9 X 7 = 63\n",
            "\n",
            "9 X 8 = 72\n",
            "\n",
            "9 X 9 = 81\n",
            "\n"
          ]
        }
      ]
    },
    {
      "cell_type": "code",
      "source": [
        "hap = 0\n",
        "num1, num2 = 0, 0\n",
        "\n",
        "while True : 2\n",
        "  num1 = int(input(\"숫자1 ==> \"))\n",
        "  num2 = int(input(\"숫자2 ==> \"))\n",
        "\n",
        "  hap = num1 + num2\n",
        "  print(num1, \"+\", num2, \"=\", hap)"
      ],
      "metadata": {
        "colab": {
          "base_uri": "https://localhost:8080/",
          "height": 376
        },
        "id": "uwT1Oj02_q-8",
        "outputId": "9ebe11f6-db48-48a9-de1a-417ea8e50c3d"
      },
      "execution_count": 3,
      "outputs": [
        {
          "name": "stdout",
          "output_type": "stream",
          "text": [
            "숫자1 ==> 3\n",
            "숫자2 ==> 4\n",
            "3 + 4 = 7\n",
            "숫자1 ==> 5\n",
            "숫자2 ==> 3\n",
            "5 + 3 = 8\n",
            "숫자1 ==> \n"
          ]
        },
        {
          "output_type": "error",
          "ename": "ValueError",
          "evalue": "ignored",
          "traceback": [
            "\u001b[0;31m---------------------------------------------------------------------------\u001b[0m",
            "\u001b[0;31mValueError\u001b[0m                                Traceback (most recent call last)",
            "\u001b[0;32m<ipython-input-3-fd54a59f1e77>\u001b[0m in \u001b[0;36m<module>\u001b[0;34m\u001b[0m\n\u001b[1;32m      3\u001b[0m \u001b[0;34m\u001b[0m\u001b[0m\n\u001b[1;32m      4\u001b[0m \u001b[0;32mwhile\u001b[0m \u001b[0;32mTrue\u001b[0m \u001b[0;34m:\u001b[0m\u001b[0;34m\u001b[0m\u001b[0;34m\u001b[0m\u001b[0m\n\u001b[0;32m----> 5\u001b[0;31m   \u001b[0mnum1\u001b[0m \u001b[0;34m=\u001b[0m \u001b[0mint\u001b[0m\u001b[0;34m(\u001b[0m\u001b[0minput\u001b[0m\u001b[0;34m(\u001b[0m\u001b[0;34m\"숫자1 ==> \"\u001b[0m\u001b[0;34m)\u001b[0m\u001b[0;34m)\u001b[0m\u001b[0;34m\u001b[0m\u001b[0;34m\u001b[0m\u001b[0m\n\u001b[0m\u001b[1;32m      6\u001b[0m   \u001b[0mnum2\u001b[0m \u001b[0;34m=\u001b[0m \u001b[0mint\u001b[0m\u001b[0;34m(\u001b[0m\u001b[0minput\u001b[0m\u001b[0;34m(\u001b[0m\u001b[0;34m\"숫자2 ==> \"\u001b[0m\u001b[0;34m)\u001b[0m\u001b[0;34m)\u001b[0m\u001b[0;34m\u001b[0m\u001b[0;34m\u001b[0m\u001b[0m\n\u001b[1;32m      7\u001b[0m \u001b[0;34m\u001b[0m\u001b[0m\n",
            "\u001b[0;31mValueError\u001b[0m: invalid literal for int() with base 10: ''"
          ]
        }
      ]
    },
    {
      "cell_type": "code",
      "source": [
        "import random\n",
        "count = 0\n",
        "while True :\n",
        "  r1, r2 = random.randint(1,6), random.randint(1,6)\n",
        "  r3 = random. randint(1,6)\n",
        "  count = count + 1\n",
        "  if r1 == r2 == r3 : break \n",
        "print(\"3개의 주사위는 모두 \", r1, \"나왔다.\")\n",
        "print(\"같은 숫자가 나오기까지 \", count,\" 번 던졌습니다.\")  \n",
        "\n"
      ],
      "metadata": {
        "colab": {
          "base_uri": "https://localhost:8080/"
        },
        "id": "k3VSfSMFBaqH",
        "outputId": "f182b167-61a9-433d-ae50-f67b2f17f6c1"
      },
      "execution_count": 18,
      "outputs": [
        {
          "output_type": "stream",
          "name": "stdout",
          "text": [
            "3개의 주사위는 모두  6 나왔다.\n",
            "같은 숫자가 나오기까지  70  번 던졌습니다.\n"
          ]
        }
      ]
    },
    {
      "cell_type": "code",
      "source": [
        "import random \n",
        "\n",
        "computer, user = 0,0\n",
        "\n",
        "\n",
        "for i in range(1, 11) :\n",
        "  computer = random.randint(1, 5)\n",
        "  print(\"게임\", i, \"회:\", end='')\n",
        "  user = int(input(\"컴퓨터가 생각한 숫자는? \"))\n",
        "\n",
        "  if computer == user :\n",
        "    print(\"맞혔네요. 축하합니다!\")\n",
        "    break\n",
        "  else :\n",
        "    print(\"아까워요.\", computer, \" 였었는데. 다시 해.\")\n",
        "    continue\n",
        "print(\"게임을 마칩니다.\")    \n"
      ],
      "metadata": {
        "colab": {
          "base_uri": "https://localhost:8080/"
        },
        "id": "QUNx0965F8qV",
        "outputId": "f2a3141f-ab72-4b37-d07c-c712be48d3b0"
      },
      "execution_count": 26,
      "outputs": [
        {
          "output_type": "stream",
          "name": "stdout",
          "text": [
            "게임 1 회:컴퓨터가 생각한 숫자는? 1\n",
            "맞혔네요. 축하합니다!\n",
            "게임을 마칩니다.\n"
          ]
        }
      ]
    },
    {
      "cell_type": "code",
      "source": [
        "import random\n",
        "com_list = [1,2,3,4,5,6,7,8,9]\n",
        "com_num, usr_num = [], []\n",
        "\n",
        "def usr_fun() :\n",
        "  usr = input(\"3개의 숫자를 입력(1~9까지) ==> \")\n",
        "  for i in range(0,5,2) :\n",
        "    usr_num.append(int(usr[i]))\n",
        "\n",
        "for i in range(3) :\n",
        "  r = random.choice(com_list)\n",
        "  com_list.remove(r)\n",
        "  com_num.append(r)\n",
        "\n",
        "print(\"** 야구 게임 **\")\n",
        "usr = input(\"3개의 숫자를 입력 ==> \")\n",
        "for i in range(0,5,2) :\n",
        "  usr_num.appen(int(usr[i]))\n",
        "\n",
        "strike, ball = 0, 0\n",
        "while True :\n",
        "  usr_num.clear()\n",
        "  usr_fun()\n",
        " for i in range(3) :\n",
        "  if com_num[i] == usr_num[i] :\n",
        "     strike = strike + 1 \n",
        "  elif usr_num[i] in com_num :\n",
        "    ball = ball + 1\n",
        " print(strike, \"스트라이크\", \" : \",ball, \"볼\")\n",
        " if strike == 3 : break\n",
        " strike, ball = 0, 0"
      ],
      "metadata": {
        "colab": {
          "base_uri": "https://localhost:8080/",
          "height": 137
        },
        "id": "T1u_LlR2Kcd3",
        "outputId": "e67f0772-5c0d-490f-cf89-5dfb94a1c643"
      },
      "execution_count": 58,
      "outputs": [
        {
          "output_type": "error",
          "ename": "IndentationError",
          "evalue": "ignored",
          "traceback": [
            "\u001b[0;36m  File \u001b[0;32m\"<tokenize>\"\u001b[0;36m, line \u001b[0;32m24\u001b[0m\n\u001b[0;31m    for i in range(3) :\u001b[0m\n\u001b[0m    ^\u001b[0m\n\u001b[0;31mIndentationError\u001b[0m\u001b[0;31m:\u001b[0m unindent does not match any outer indentation level\n"
          ]
        }
      ]
    }
  ]
}