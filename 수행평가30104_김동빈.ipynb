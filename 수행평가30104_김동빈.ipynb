{
  "nbformat": 4,
  "nbformat_minor": 0,
  "metadata": {
    "colab": {
      "provenance": [],
      "authorship_tag": "ABX9TyMubat4LSmsK66bJiAqt5ZK",
      "include_colab_link": true
    },
    "kernelspec": {
      "name": "python3",
      "display_name": "Python 3"
    },
    "language_info": {
      "name": "python"
    }
  },
  "cells": [
    {
      "cell_type": "markdown",
      "metadata": {
        "id": "view-in-github",
        "colab_type": "text"
      },
      "source": [
        "<a href=\"https://colab.research.google.com/github/asdfdd12345/colab/blob/main/%EC%88%98%ED%96%89%ED%8F%89%EA%B0%8030104_%EA%B9%80%EB%8F%99%EB%B9%88.ipynb\" target=\"_parent\"><img src=\"https://colab.research.google.com/assets/colab-badge.svg\" alt=\"Open In Colab\"/></a>"
      ]
    },
    {
      "cell_type": "code",
      "source": [
        "ss = input(\"원본 문자열 ==> \")\n",
        "\n",
        "for s in ss:  \n",
        "    if s.isupper():  \n",
        "        print(s.lower(), end=\"\")  \n",
        "    else:  \n",
        "        print(s.upper(), end=\"\")  "
      ],
      "metadata": {
        "colab": {
          "base_uri": "https://localhost:8080/"
        },
        "id": "_T2tQ4KMwo20",
        "outputId": "f310e692-b02d-47be-acac-5e9bd0c97881"
      },
      "execution_count": 12,
      "outputs": [
        {
          "output_type": "stream",
          "name": "stdout",
          "text": [
            "원본 문자열 ==> Python\n",
            "pYTHON"
          ]
        }
      ]
    },
    {
      "cell_type": "code",
      "source": [
        "singer = input(\"원본 문자열 ==> \")\n",
        "singer_len = len(singer)\n",
        "r_singer = \"\"\n",
        "while singer_len > 0 :\n",
        "  r_singer = r_singer + singer[singer_len-1]\n",
        "  singer_len  = singer_len - 1\n",
        "print(\"반대 문자열 ==> \", r_singer)"
      ],
      "metadata": {
        "colab": {
          "base_uri": "https://localhost:8080/"
        },
        "id": "G_TrBWa_xufU",
        "outputId": "fae784ff-3319-4808-f2eb-8847850078b4"
      },
      "execution_count": 17,
      "outputs": [
        {
          "output_type": "stream",
          "name": "stdout",
          "text": [
            "원본 문자열 ==> 트와이스\n",
            "반대 문자열 ==>   스이와트\n"
          ]
        }
      ]
    }
  ]
}