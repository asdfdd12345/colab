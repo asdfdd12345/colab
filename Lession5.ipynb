{
  "nbformat": 4,
  "nbformat_minor": 0,
  "metadata": {
    "colab": {
      "name": "Lession5.ipynb",
      "provenance": [],
      "authorship_tag": "ABX9TyOjWxuWjKmZR5ArFzsring/",
      "include_colab_link": true
    },
    "kernelspec": {
      "name": "python3",
      "display_name": "Python 3"
    },
    "language_info": {
      "name": "python"
    }
  },
  "cells": [
    {
      "cell_type": "markdown",
      "metadata": {
        "id": "view-in-github",
        "colab_type": "text"
      },
      "source": [
        "<a href=\"https://colab.research.google.com/github/asdfdd12345/colab/blob/main/Lession5.ipynb\" target=\"_parent\"><img src=\"https://colab.research.google.com/assets/colab-badge.svg\" alt=\"Open In Colab\"/></a>"
      ]
    },
    {
      "cell_type": "markdown",
      "source": [
        "5장 예제 if문"
      ],
      "metadata": {
        "id": "C_NtkQjdQIB8"
      }
    },
    {
      "cell_type": "code",
      "execution_count": 1,
      "metadata": {
        "colab": {
          "base_uri": "https://localhost:8080/"
        },
        "id": "VUgUIMElQFp5",
        "outputId": "591d3ae1-659a-4b3c-c6c2-4832dfc99727"
      },
      "outputs": [
        {
          "output_type": "stream",
          "name": "stdout",
          "text": [
            "100보다 작습니다.\n"
          ]
        }
      ],
      "source": [
        "num = 99\n",
        "if num < 100 :\n",
        "    print(\"100보다 작습니다.\")"
      ]
    },
    {
      "cell_type": "code",
      "source": [
        "num = int(input(\"정수를 입력 :\"))\n",
        "\n",
        "if (num%2) == 0 :\n",
        "  print(num, \"짝수입니다.\")\n",
        "\n",
        "if (num % 2 ) == 1:\n",
        "  print(num, \"홀수입니다.\")"
      ],
      "metadata": {
        "colab": {
          "base_uri": "https://localhost:8080/"
        },
        "id": "3Ia6B_m3Q4QU",
        "outputId": "dc376420-94f6-468d-9497-0976f4361737"
      },
      "execution_count": 6,
      "outputs": [
        {
          "output_type": "stream",
          "name": "stdout",
          "text": [
            "정수를 입력 :20\n",
            "20 짝수입니다.\n"
          ]
        }
      ]
    }
  ]
}