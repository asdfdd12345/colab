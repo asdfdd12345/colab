{
  "nbformat": 4,
  "nbformat_minor": 0,
  "metadata": {
    "colab": {
      "name": "Lession5.ipynb",
      "provenance": [],
      "authorship_tag": "ABX9TyMzPPG4os26uh8x5fzg5huJ",
      "include_colab_link": true
    },
    "kernelspec": {
      "name": "python3",
      "display_name": "Python 3"
    },
    "language_info": {
      "name": "python"
    }
  },
  "cells": [
    {
      "cell_type": "markdown",
      "metadata": {
        "id": "view-in-github",
        "colab_type": "text"
      },
      "source": [
        "<a href=\"https://colab.research.google.com/github/asdfdd12345/colab/blob/main/Lession5.ipynb\" target=\"_parent\"><img src=\"https://colab.research.google.com/assets/colab-badge.svg\" alt=\"Open In Colab\"/></a>"
      ]
    },
    {
      "cell_type": "markdown",
      "source": [
        "5장 예제 if문"
      ],
      "metadata": {
        "id": "C_NtkQjdQIB8"
      }
    },
    {
      "cell_type": "code",
      "execution_count": null,
      "metadata": {
        "colab": {
          "base_uri": "https://localhost:8080/"
        },
        "id": "VUgUIMElQFp5",
        "outputId": "591d3ae1-659a-4b3c-c6c2-4832dfc99727"
      },
      "outputs": [
        {
          "output_type": "stream",
          "name": "stdout",
          "text": [
            "100보다 작습니다.\n"
          ]
        }
      ],
      "source": [
        "num = 99\n",
        "if num < 100 :\n",
        "    print(\"100보다 작습니다.\")"
      ]
    },
    {
      "cell_type": "code",
      "source": [
        "num = int(input(\"정수를 입력 :\"))\n",
        "\n",
        "if (num%2) == 0 :\n",
        "  print(num, \"짝수입니다.\")\n",
        "\n",
        "if (num % 2 ) == 1:\n",
        "  print(num, \"홀수입니다.\")"
      ],
      "metadata": {
        "id": "3Ia6B_m3Q4QU"
      },
      "execution_count": null,
      "outputs": []
    },
    {
      "cell_type": "code",
      "source": [
        "num = int(input(\"정수를 입력 : \"))\n",
        "if (num % 2) == 0 :\n",
        "  print(num, \"짝수입니다.\")\n",
        "else : \n",
        "  print(num, \"홀수입니다. \")  "
      ],
      "metadata": {
        "colab": {
          "base_uri": "https://localhost:8080/"
        },
        "id": "m9VoPPRARznZ",
        "outputId": "0dcc84a0-6ba6-4e89-c7b4-de2412edcb89"
      },
      "execution_count": 1,
      "outputs": [
        {
          "output_type": "stream",
          "name": "stdout",
          "text": [
            "정수를 입력 : 30\n",
            "30 짝수입니다.\n"
          ]
        }
      ]
    },
    {
      "cell_type": "markdown",
      "source": [
        "랜덤함수게임"
      ],
      "metadata": {
        "id": "gR_tEcdtUHjO"
      }
    },
    {
      "cell_type": "code",
      "source": [
        "import random\n",
        "com_number = random.randint(1,45)\n",
        "print(\"** 컴퓨터가 생각한 숫자를 맞추는 게임 **\")\n",
        "print(\"숫자는 1부터 45까지 입니다.\")\n",
        "user_number = \"\"\n",
        "while com_number != user_number :\n",
        "  user_number = int(input(\"숫자를 입력 : \"))\n",
        "  if com_number > user_number :\n",
        "\n",
        "      print(\"입력한 숫자가 작습니다.\")\n",
        "  elif  com_number < user_number :\n",
        "      print(\"입력한 숫자가 더 큽니다.\")\n",
        "  else :\n",
        "      print(\" 정답 \")  \n",
        "      \n"
      ],
      "metadata": {
        "colab": {
          "base_uri": "https://localhost:8080/"
        },
        "id": "xXGfnhJwTKGz",
        "outputId": "c3e2a59b-c8ef-4f02-daed-5a13ab992ae5"
      },
      "execution_count": 16,
      "outputs": [
        {
          "output_type": "stream",
          "name": "stdout",
          "text": [
            "** 컴퓨터가 생각한 숫자를 맞추는 게임 **\n",
            "숫자는 1부터 45까지 입니다.\n",
            "숫자를 입력 : 3\n",
            "입력한 숫자가 작습니다.\n",
            "숫자를 입력 : 4\n",
            "입력한 숫자가 작습니다.\n",
            "숫자를 입력 : 6\n",
            "입력한 숫자가 작습니다.\n",
            "숫자를 입력 : 26\n",
            "입력한 숫자가 더 큽니다.\n",
            "숫자를 입력 : 30\n",
            "입력한 숫자가 더 큽니다.\n",
            "숫자를 입력 : 40\n",
            "입력한 숫자가 더 큽니다.\n",
            "숫자를 입력 : 45\n",
            "입력한 숫자가 더 큽니다.\n",
            "숫자를 입력 : 54\n",
            "입력한 숫자가 더 큽니다.\n",
            "숫자를 입력 : 2\n",
            "입력한 숫자가 작습니다.\n",
            "숫자를 입력 : 3\n",
            "입력한 숫자가 작습니다.\n",
            "숫자를 입력 : 4\n",
            "입력한 숫자가 작습니다.\n",
            "숫자를 입력 : 20\n",
            "입력한 숫자가 작습니다.\n",
            "숫자를 입력 : 19\n",
            "입력한 숫자가 작습니다.\n",
            "숫자를 입력 : 14\n",
            "입력한 숫자가 작습니다.\n",
            "숫자를 입력 : 10\n",
            "입력한 숫자가 작습니다.\n",
            "숫자를 입력 : 9\n",
            "입력한 숫자가 작습니다.\n",
            "숫자를 입력 : 8\n",
            "입력한 숫자가 작습니다.\n",
            "숫자를 입력 : 6\n",
            "입력한 숫자가 작습니다.\n",
            "숫자를 입력 : 5\n",
            "입력한 숫자가 작습니다.\n",
            "숫자를 입력 : 1\n",
            "입력한 숫자가 작습니다.\n",
            "숫자를 입력 : 0\n",
            "입력한 숫자가 작습니다.\n",
            "숫자를 입력 : 13\n",
            "입력한 숫자가 작습니다.\n",
            "숫자를 입력 : 14\n",
            "입력한 숫자가 작습니다.\n",
            "숫자를 입력 : 15\n",
            "입력한 숫자가 작습니다.\n",
            "숫자를 입력 : 16\n",
            "입력한 숫자가 작습니다.\n",
            "숫자를 입력 : 17\n",
            "입력한 숫자가 작습니다.\n",
            "숫자를 입력 : 19\n",
            "입력한 숫자가 작습니다.\n",
            "숫자를 입력 : 2\n",
            "입력한 숫자가 작습니다.\n",
            "숫자를 입력 : 3\n",
            "입력한 숫자가 작습니다.\n",
            "숫자를 입력 : 4\n",
            "입력한 숫자가 작습니다.\n",
            "숫자를 입력 : -1\n",
            "입력한 숫자가 작습니다.\n",
            "숫자를 입력 : 15\n",
            "입력한 숫자가 작습니다.\n",
            "숫자를 입력 : 30\n",
            "입력한 숫자가 더 큽니다.\n",
            "숫자를 입력 : 31\n",
            "입력한 숫자가 더 큽니다.\n",
            "숫자를 입력 : 27\n",
            "입력한 숫자가 더 큽니다.\n",
            "숫자를 입력 : 25\n",
            "입력한 숫자가 더 큽니다.\n",
            "숫자를 입력 : 26\n",
            "입력한 숫자가 더 큽니다.\n",
            "숫자를 입력 : 24\n",
            " 정답 \n"
          ]
        }
      ]
    },
    {
      "cell_type": "code",
      "source": [
        "import random\n",
        "com_player = random.choice([\"가위\",\"바위\",\"보\"])\n",
        "print(\"** 가위 바위 보 게임 **\")\n",
        "user_player = input(\"가위/바위보 중 하나를 입력 하세요 == > \")\n",
        "count = 7\n",
        "while count > 0 :\n",
        "  user_player = input(\"가위/바위/보 중 하나를 입력하세요 ==> \")\n",
        "  if (com_player == user_player) :\n",
        "    print(\"무승부\")\n",
        "  elif ((com_player == \"가위\") and (user_player == \"바위\")) or \\\n",
        "  ((com_player == \"바위\") and (user_player == \"보\")) or \\\n",
        "  ((com_player ==ㅁ \"보\") and (user_player == \"가위\")) :\n",
        "    print(\"이겼다\")\n",
        "  else :\n",
        "    print(\"졌다\")\n",
        "  count = count - 1    "
      ],
      "metadata": {
        "colab": {
          "base_uri": "https://localhost:8080/"
        },
        "id": "fH7G5FViX11L",
        "outputId": "90b75563-79a8-492b-e39a-e1a857d4dd79"
      },
      "execution_count": 27,
      "outputs": [
        {
          "output_type": "stream",
          "name": "stdout",
          "text": [
            "** 가위 바위 보 게임 **\n",
            "가위/바위보 중 하나를 입력 하세요 == > 보\n",
            "가위/바위/보 중 하나를 입력하세요 ==> 가위\n",
            "무승부\n",
            "가위/바위/보 중 하나를 입력하세요 ==> 가위\n",
            "무승부\n",
            "가위/바위/보 중 하나를 입력하세요 ==> 바위\n",
            "이겼다\n",
            "가위/바위/보 중 하나를 입력하세요 ==> 보\n",
            "졌다\n",
            "가위/바위/보 중 하나를 입력하세요 ==> 보\n",
            "졌다\n",
            "가위/바위/보 중 하나를 입력하세요 ==> 가위\n",
            "무승부\n",
            "가위/바위/보 중 하나를 입력하세요 ==> 바위\n",
            "이겼다\n"
          ]
        }
      ]
    },
    {
      "cell_type": "code",
      "source": [],
      "metadata": {
        "id": "0cappyi5Yici"
      },
      "execution_count": null,
      "outputs": []
    }
  ]
}